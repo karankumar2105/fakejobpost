{
 "cells": [
  {
   "cell_type": "code",
   "execution_count": 1,
   "id": "06ce370c",
   "metadata": {},
   "outputs": [],
   "source": [
    "import pandas as pd\n",
    "import numpy as np\n",
    "import matplotlib.pyplot as plt\n",
    "import seaborn as sns"
   ]
  },
  {
   "cell_type": "code",
   "execution_count": 2,
   "id": "3c839e0e",
   "metadata": {},
   "outputs": [],
   "source": [
    "df=pd.read_csv('fake_job_postings.csv')"
   ]
  },
  {
   "cell_type": "code",
   "execution_count": 3,
   "id": "03c18fef",
   "metadata": {},
   "outputs": [
    {
     "data": {
      "text/html": [
       "<div>\n",
       "<style scoped>\n",
       "    .dataframe tbody tr th:only-of-type {\n",
       "        vertical-align: middle;\n",
       "    }\n",
       "\n",
       "    .dataframe tbody tr th {\n",
       "        vertical-align: top;\n",
       "    }\n",
       "\n",
       "    .dataframe thead th {\n",
       "        text-align: right;\n",
       "    }\n",
       "</style>\n",
       "<table border=\"1\" class=\"dataframe\">\n",
       "  <thead>\n",
       "    <tr style=\"text-align: right;\">\n",
       "      <th></th>\n",
       "      <th>job_id</th>\n",
       "      <th>title</th>\n",
       "      <th>location</th>\n",
       "      <th>department</th>\n",
       "      <th>salary_range</th>\n",
       "      <th>company_profile</th>\n",
       "      <th>description</th>\n",
       "      <th>requirements</th>\n",
       "      <th>benefits</th>\n",
       "      <th>telecommuting</th>\n",
       "      <th>has_company_logo</th>\n",
       "      <th>has_questions</th>\n",
       "      <th>employment_type</th>\n",
       "      <th>required_experience</th>\n",
       "      <th>required_education</th>\n",
       "      <th>industry</th>\n",
       "      <th>function</th>\n",
       "      <th>fraudulent</th>\n",
       "    </tr>\n",
       "  </thead>\n",
       "  <tbody>\n",
       "    <tr>\n",
       "      <th>0</th>\n",
       "      <td>1</td>\n",
       "      <td>Marketing Intern</td>\n",
       "      <td>US, NY, New York</td>\n",
       "      <td>Marketing</td>\n",
       "      <td>NaN</td>\n",
       "      <td>We're Food52, and we've created a groundbreaki...</td>\n",
       "      <td>Food52, a fast-growing, James Beard Award-winn...</td>\n",
       "      <td>Experience with content management systems a m...</td>\n",
       "      <td>NaN</td>\n",
       "      <td>0</td>\n",
       "      <td>1</td>\n",
       "      <td>0</td>\n",
       "      <td>Other</td>\n",
       "      <td>Internship</td>\n",
       "      <td>NaN</td>\n",
       "      <td>NaN</td>\n",
       "      <td>Marketing</td>\n",
       "      <td>0</td>\n",
       "    </tr>\n",
       "    <tr>\n",
       "      <th>1</th>\n",
       "      <td>2</td>\n",
       "      <td>Customer Service - Cloud Video Production</td>\n",
       "      <td>NZ, , Auckland</td>\n",
       "      <td>Success</td>\n",
       "      <td>NaN</td>\n",
       "      <td>90 Seconds, the worlds Cloud Video Production ...</td>\n",
       "      <td>Organised - Focused - Vibrant - Awesome!Do you...</td>\n",
       "      <td>What we expect from you:Your key responsibilit...</td>\n",
       "      <td>What you will get from usThrough being part of...</td>\n",
       "      <td>0</td>\n",
       "      <td>1</td>\n",
       "      <td>0</td>\n",
       "      <td>Full-time</td>\n",
       "      <td>Not Applicable</td>\n",
       "      <td>NaN</td>\n",
       "      <td>Marketing and Advertising</td>\n",
       "      <td>Customer Service</td>\n",
       "      <td>0</td>\n",
       "    </tr>\n",
       "    <tr>\n",
       "      <th>2</th>\n",
       "      <td>3</td>\n",
       "      <td>Commissioning Machinery Assistant (CMA)</td>\n",
       "      <td>US, IA, Wever</td>\n",
       "      <td>NaN</td>\n",
       "      <td>NaN</td>\n",
       "      <td>Valor Services provides Workforce Solutions th...</td>\n",
       "      <td>Our client, located in Houston, is actively se...</td>\n",
       "      <td>Implement pre-commissioning and commissioning ...</td>\n",
       "      <td>NaN</td>\n",
       "      <td>0</td>\n",
       "      <td>1</td>\n",
       "      <td>0</td>\n",
       "      <td>NaN</td>\n",
       "      <td>NaN</td>\n",
       "      <td>NaN</td>\n",
       "      <td>NaN</td>\n",
       "      <td>NaN</td>\n",
       "      <td>0</td>\n",
       "    </tr>\n",
       "    <tr>\n",
       "      <th>3</th>\n",
       "      <td>4</td>\n",
       "      <td>Account Executive - Washington DC</td>\n",
       "      <td>US, DC, Washington</td>\n",
       "      <td>Sales</td>\n",
       "      <td>NaN</td>\n",
       "      <td>Our passion for improving quality of life thro...</td>\n",
       "      <td>THE COMPANY: ESRI – Environmental Systems Rese...</td>\n",
       "      <td>EDUCATION: Bachelor’s or Master’s in GIS, busi...</td>\n",
       "      <td>Our culture is anything but corporate—we have ...</td>\n",
       "      <td>0</td>\n",
       "      <td>1</td>\n",
       "      <td>0</td>\n",
       "      <td>Full-time</td>\n",
       "      <td>Mid-Senior level</td>\n",
       "      <td>Bachelor's Degree</td>\n",
       "      <td>Computer Software</td>\n",
       "      <td>Sales</td>\n",
       "      <td>0</td>\n",
       "    </tr>\n",
       "    <tr>\n",
       "      <th>4</th>\n",
       "      <td>5</td>\n",
       "      <td>Bill Review Manager</td>\n",
       "      <td>US, FL, Fort Worth</td>\n",
       "      <td>NaN</td>\n",
       "      <td>NaN</td>\n",
       "      <td>SpotSource Solutions LLC is a Global Human Cap...</td>\n",
       "      <td>JOB TITLE: Itemization Review ManagerLOCATION:...</td>\n",
       "      <td>QUALIFICATIONS:RN license in the State of Texa...</td>\n",
       "      <td>Full Benefits Offered</td>\n",
       "      <td>0</td>\n",
       "      <td>1</td>\n",
       "      <td>1</td>\n",
       "      <td>Full-time</td>\n",
       "      <td>Mid-Senior level</td>\n",
       "      <td>Bachelor's Degree</td>\n",
       "      <td>Hospital &amp; Health Care</td>\n",
       "      <td>Health Care Provider</td>\n",
       "      <td>0</td>\n",
       "    </tr>\n",
       "  </tbody>\n",
       "</table>\n",
       "</div>"
      ],
      "text/plain": [
       "   job_id                                      title            location  \\\n",
       "0       1                           Marketing Intern    US, NY, New York   \n",
       "1       2  Customer Service - Cloud Video Production      NZ, , Auckland   \n",
       "2       3    Commissioning Machinery Assistant (CMA)       US, IA, Wever   \n",
       "3       4          Account Executive - Washington DC  US, DC, Washington   \n",
       "4       5                        Bill Review Manager  US, FL, Fort Worth   \n",
       "\n",
       "  department salary_range                                    company_profile  \\\n",
       "0  Marketing          NaN  We're Food52, and we've created a groundbreaki...   \n",
       "1    Success          NaN  90 Seconds, the worlds Cloud Video Production ...   \n",
       "2        NaN          NaN  Valor Services provides Workforce Solutions th...   \n",
       "3      Sales          NaN  Our passion for improving quality of life thro...   \n",
       "4        NaN          NaN  SpotSource Solutions LLC is a Global Human Cap...   \n",
       "\n",
       "                                         description  \\\n",
       "0  Food52, a fast-growing, James Beard Award-winn...   \n",
       "1  Organised - Focused - Vibrant - Awesome!Do you...   \n",
       "2  Our client, located in Houston, is actively se...   \n",
       "3  THE COMPANY: ESRI – Environmental Systems Rese...   \n",
       "4  JOB TITLE: Itemization Review ManagerLOCATION:...   \n",
       "\n",
       "                                        requirements  \\\n",
       "0  Experience with content management systems a m...   \n",
       "1  What we expect from you:Your key responsibilit...   \n",
       "2  Implement pre-commissioning and commissioning ...   \n",
       "3  EDUCATION: Bachelor’s or Master’s in GIS, busi...   \n",
       "4  QUALIFICATIONS:RN license in the State of Texa...   \n",
       "\n",
       "                                            benefits  telecommuting  \\\n",
       "0                                                NaN              0   \n",
       "1  What you will get from usThrough being part of...              0   \n",
       "2                                                NaN              0   \n",
       "3  Our culture is anything but corporate—we have ...              0   \n",
       "4                              Full Benefits Offered              0   \n",
       "\n",
       "   has_company_logo  has_questions employment_type required_experience  \\\n",
       "0                 1              0           Other          Internship   \n",
       "1                 1              0       Full-time      Not Applicable   \n",
       "2                 1              0             NaN                 NaN   \n",
       "3                 1              0       Full-time    Mid-Senior level   \n",
       "4                 1              1       Full-time    Mid-Senior level   \n",
       "\n",
       "  required_education                   industry              function  \\\n",
       "0                NaN                        NaN             Marketing   \n",
       "1                NaN  Marketing and Advertising      Customer Service   \n",
       "2                NaN                        NaN                   NaN   \n",
       "3  Bachelor's Degree          Computer Software                 Sales   \n",
       "4  Bachelor's Degree     Hospital & Health Care  Health Care Provider   \n",
       "\n",
       "   fraudulent  \n",
       "0           0  \n",
       "1           0  \n",
       "2           0  \n",
       "3           0  \n",
       "4           0  "
      ]
     },
     "execution_count": 3,
     "metadata": {},
     "output_type": "execute_result"
    }
   ],
   "source": [
    "df.head()"
   ]
  },
  {
   "cell_type": "code",
   "execution_count": 4,
   "id": "2d74fcfb",
   "metadata": {},
   "outputs": [
    {
     "data": {
      "text/plain": [
       "(17880, 18)"
      ]
     },
     "execution_count": 4,
     "metadata": {},
     "output_type": "execute_result"
    }
   ],
   "source": [
    "df.shape"
   ]
  },
  {
   "cell_type": "code",
   "execution_count": 5,
   "id": "49bcc695",
   "metadata": {},
   "outputs": [
    {
     "data": {
      "text/plain": [
       "job_id                     0\n",
       "title                      0\n",
       "location                 346\n",
       "department             11547\n",
       "salary_range           15012\n",
       "company_profile         3308\n",
       "description                1\n",
       "requirements            2695\n",
       "benefits                7210\n",
       "telecommuting              0\n",
       "has_company_logo           0\n",
       "has_questions              0\n",
       "employment_type         3471\n",
       "required_experience     7050\n",
       "required_education      8105\n",
       "industry                4903\n",
       "function                6455\n",
       "fraudulent                 0\n",
       "dtype: int64"
      ]
     },
     "execution_count": 5,
     "metadata": {},
     "output_type": "execute_result"
    }
   ],
   "source": [
    "df.isnull().sum()#Null values in each feature"
   ]
  },
  {
   "cell_type": "code",
   "execution_count": 6,
   "id": "2bf1826c",
   "metadata": {},
   "outputs": [
    {
     "name": "stdout",
     "output_type": "stream",
     "text": [
      "<class 'pandas.core.frame.DataFrame'>\n",
      "RangeIndex: 17880 entries, 0 to 17879\n",
      "Data columns (total 18 columns):\n",
      " #   Column               Non-Null Count  Dtype \n",
      "---  ------               --------------  ----- \n",
      " 0   job_id               17880 non-null  int64 \n",
      " 1   title                17880 non-null  object\n",
      " 2   location             17534 non-null  object\n",
      " 3   department           6333 non-null   object\n",
      " 4   salary_range         2868 non-null   object\n",
      " 5   company_profile      14572 non-null  object\n",
      " 6   description          17879 non-null  object\n",
      " 7   requirements         15185 non-null  object\n",
      " 8   benefits             10670 non-null  object\n",
      " 9   telecommuting        17880 non-null  int64 \n",
      " 10  has_company_logo     17880 non-null  int64 \n",
      " 11  has_questions        17880 non-null  int64 \n",
      " 12  employment_type      14409 non-null  object\n",
      " 13  required_experience  10830 non-null  object\n",
      " 14  required_education   9775 non-null   object\n",
      " 15  industry             12977 non-null  object\n",
      " 16  function             11425 non-null  object\n",
      " 17  fraudulent           17880 non-null  int64 \n",
      "dtypes: int64(5), object(13)\n",
      "memory usage: 2.5+ MB\n"
     ]
    }
   ],
   "source": [
    "df.info()# Information about our dataset"
   ]
  },
  {
   "cell_type": "code",
   "execution_count": 7,
   "id": "6ac5afa8",
   "metadata": {},
   "outputs": [
    {
     "data": {
      "text/html": [
       "<div>\n",
       "<style scoped>\n",
       "    .dataframe tbody tr th:only-of-type {\n",
       "        vertical-align: middle;\n",
       "    }\n",
       "\n",
       "    .dataframe tbody tr th {\n",
       "        vertical-align: top;\n",
       "    }\n",
       "\n",
       "    .dataframe thead th {\n",
       "        text-align: right;\n",
       "    }\n",
       "</style>\n",
       "<table border=\"1\" class=\"dataframe\">\n",
       "  <thead>\n",
       "    <tr style=\"text-align: right;\">\n",
       "      <th></th>\n",
       "      <th>job_id</th>\n",
       "      <th>telecommuting</th>\n",
       "      <th>has_company_logo</th>\n",
       "      <th>has_questions</th>\n",
       "      <th>fraudulent</th>\n",
       "    </tr>\n",
       "  </thead>\n",
       "  <tbody>\n",
       "    <tr>\n",
       "      <th>count</th>\n",
       "      <td>17880.000000</td>\n",
       "      <td>17880.000000</td>\n",
       "      <td>17880.000000</td>\n",
       "      <td>17880.000000</td>\n",
       "      <td>17880.000000</td>\n",
       "    </tr>\n",
       "    <tr>\n",
       "      <th>mean</th>\n",
       "      <td>8940.500000</td>\n",
       "      <td>0.042897</td>\n",
       "      <td>0.795302</td>\n",
       "      <td>0.491723</td>\n",
       "      <td>0.048434</td>\n",
       "    </tr>\n",
       "    <tr>\n",
       "      <th>std</th>\n",
       "      <td>5161.655742</td>\n",
       "      <td>0.202631</td>\n",
       "      <td>0.403492</td>\n",
       "      <td>0.499945</td>\n",
       "      <td>0.214688</td>\n",
       "    </tr>\n",
       "    <tr>\n",
       "      <th>min</th>\n",
       "      <td>1.000000</td>\n",
       "      <td>0.000000</td>\n",
       "      <td>0.000000</td>\n",
       "      <td>0.000000</td>\n",
       "      <td>0.000000</td>\n",
       "    </tr>\n",
       "    <tr>\n",
       "      <th>25%</th>\n",
       "      <td>4470.750000</td>\n",
       "      <td>0.000000</td>\n",
       "      <td>1.000000</td>\n",
       "      <td>0.000000</td>\n",
       "      <td>0.000000</td>\n",
       "    </tr>\n",
       "    <tr>\n",
       "      <th>50%</th>\n",
       "      <td>8940.500000</td>\n",
       "      <td>0.000000</td>\n",
       "      <td>1.000000</td>\n",
       "      <td>0.000000</td>\n",
       "      <td>0.000000</td>\n",
       "    </tr>\n",
       "    <tr>\n",
       "      <th>75%</th>\n",
       "      <td>13410.250000</td>\n",
       "      <td>0.000000</td>\n",
       "      <td>1.000000</td>\n",
       "      <td>1.000000</td>\n",
       "      <td>0.000000</td>\n",
       "    </tr>\n",
       "    <tr>\n",
       "      <th>max</th>\n",
       "      <td>17880.000000</td>\n",
       "      <td>1.000000</td>\n",
       "      <td>1.000000</td>\n",
       "      <td>1.000000</td>\n",
       "      <td>1.000000</td>\n",
       "    </tr>\n",
       "  </tbody>\n",
       "</table>\n",
       "</div>"
      ],
      "text/plain": [
       "             job_id  telecommuting  has_company_logo  has_questions  \\\n",
       "count  17880.000000   17880.000000      17880.000000   17880.000000   \n",
       "mean    8940.500000       0.042897          0.795302       0.491723   \n",
       "std     5161.655742       0.202631          0.403492       0.499945   \n",
       "min        1.000000       0.000000          0.000000       0.000000   \n",
       "25%     4470.750000       0.000000          1.000000       0.000000   \n",
       "50%     8940.500000       0.000000          1.000000       0.000000   \n",
       "75%    13410.250000       0.000000          1.000000       1.000000   \n",
       "max    17880.000000       1.000000          1.000000       1.000000   \n",
       "\n",
       "         fraudulent  \n",
       "count  17880.000000  \n",
       "mean       0.048434  \n",
       "std        0.214688  \n",
       "min        0.000000  \n",
       "25%        0.000000  \n",
       "50%        0.000000  \n",
       "75%        0.000000  \n",
       "max        1.000000  "
      ]
     },
     "execution_count": 7,
     "metadata": {},
     "output_type": "execute_result"
    }
   ],
   "source": [
    "df.describe()"
   ]
  },
  {
   "cell_type": "markdown",
   "id": "935ed256",
   "metadata": {},
   "source": [
    "# Exploratory Data Analysis"
   ]
  },
  {
   "cell_type": "markdown",
   "id": "13d7fad6",
   "metadata": {},
   "source": [
    "### Features with NaN values"
   ]
  },
  {
   "cell_type": "code",
   "execution_count": 8,
   "id": "d64bba4c",
   "metadata": {},
   "outputs": [
    {
     "data": {
      "text/plain": [
       "job_id                     0\n",
       "title                      0\n",
       "location                 346\n",
       "department             11547\n",
       "salary_range           15012\n",
       "company_profile         3308\n",
       "description                1\n",
       "requirements            2695\n",
       "benefits                7210\n",
       "telecommuting              0\n",
       "has_company_logo           0\n",
       "has_questions              0\n",
       "employment_type         3471\n",
       "required_experience     7050\n",
       "required_education      8105\n",
       "industry                4903\n",
       "function                6455\n",
       "fraudulent                 0\n",
       "dtype: int64"
      ]
     },
     "execution_count": 8,
     "metadata": {},
     "output_type": "execute_result"
    }
   ],
   "source": [
    "df.isnull().sum()"
   ]
  },
  {
   "cell_type": "code",
   "execution_count": 9,
   "id": "cf131f18",
   "metadata": {},
   "outputs": [
    {
     "data": {
      "text/plain": [
       "<AxesSubplot:>"
      ]
     },
     "execution_count": 9,
     "metadata": {},
     "output_type": "execute_result"
    },
    {
     "data": {
      "image/png": "[encoded data removed]",
      "text/plain": [
       "<Figure size 432x288 with 2 Axes>"
      ]
     },
     "metadata": {
      "needs_background": "light"
     },
     "output_type": "display_data"
    }
   ],
   "source": [
    "#Correleation between features in the dataset\n",
    "sns.heatmap(df.corr(),annot=True)"
   ]
  },
  {
   "cell_type": "code",
   "execution_count": 10,
   "id": "8cc1cbed",
   "metadata": {},
   "outputs": [
    {
     "name": "stdout",
     "output_type": "stream",
     "text": [
      "job_id has 0.0 % missing values\n",
      "title has 0.0 % missing values\n",
      "location has 0.0194 % missing values\n",
      "department has 0.6458 % missing values\n",
      "salary_range has 0.8396 % missing values\n",
      "company_profile has 0.185 % missing values\n",
      "description has 0.0001 % missing values\n",
      "requirements has 0.1507 % missing values\n",
      "benefits has 0.4032 % missing values\n",
      "telecommuting has 0.0 % missing values\n",
      "has_company_logo has 0.0 % missing values\n",
      "has_questions has 0.0 % missing values\n",
      "employment_type has 0.1941 % missing values\n",
      "required_experience has 0.3943 % missing values\n",
      "required_education has 0.4533 % missing values\n",
      "industry has 0.2742 % missing values\n",
      "function has 0.361 % missing values\n",
      "fraudulent has 0.0 % missing values\n"
     ]
    }
   ],
   "source": [
    "for feature in df.columns:\n",
    "    print(feature,\"has\",np.round(df[feature].isnull().mean(),4),\"% missing values\")"
   ]
  },
  {
   "cell_type": "markdown",
   "id": "d92e996d",
   "metadata": {},
   "source": [
    "### Numerical Features"
   ]
  },
  {
   "cell_type": "code",
   "execution_count": 11,
   "id": "3a672302",
   "metadata": {},
   "outputs": [],
   "source": [
    "numerical_features=[feature for feature in df.columns if df[feature].dtype!='O']"
   ]
  },
  {
   "cell_type": "code",
   "execution_count": 12,
   "id": "c1b09d57",
   "metadata": {},
   "outputs": [
    {
     "data": {
      "text/plain": [
       "False"
      ]
     },
     "execution_count": 12,
     "metadata": {},
     "output_type": "execute_result"
    }
   ],
   "source": [
    "df['salary_range'].dtype!='O'"
   ]
  },
  {
   "cell_type": "code",
   "execution_count": 13,
   "id": "4aaecac5",
   "metadata": {},
   "outputs": [
    {
     "data": {
      "text/plain": [
       "['job_id', 'telecommuting', 'has_company_logo', 'has_questions', 'fraudulent']"
      ]
     },
     "execution_count": 13,
     "metadata": {},
     "output_type": "execute_result"
    }
   ],
   "source": [
    "numerical_features"
   ]
  },
  {
   "cell_type": "markdown",
   "id": "f232f635",
   "metadata": {},
   "source": [
    "So these are numerical features in the dataset"
   ]
  },
  {
   "cell_type": "markdown",
   "id": "f1f8e084",
   "metadata": {},
   "source": [
    "### Categorical Features"
   ]
  },
  {
   "cell_type": "code",
   "execution_count": 14,
   "id": "d4eee9a7",
   "metadata": {},
   "outputs": [],
   "source": [
    "categorical_features=[feature for feature in df.columns if feature not in numerical_features]"
   ]
  },
  {
   "cell_type": "code",
   "execution_count": 15,
   "id": "1a4d0446",
   "metadata": {},
   "outputs": [
    {
     "data": {
      "text/plain": [
       "['title',\n",
       " 'location',\n",
       " 'department',\n",
       " 'salary_range',\n",
       " 'company_profile',\n",
       " 'description',\n",
       " 'requirements',\n",
       " 'benefits',\n",
       " 'employment_type',\n",
       " 'required_experience',\n",
       " 'required_education',\n",
       " 'industry',\n",
       " 'function']"
      ]
     },
     "execution_count": 15,
     "metadata": {},
     "output_type": "execute_result"
    }
   ],
   "source": [
    "categorical_features"
   ]
  },
  {
   "cell_type": "markdown",
   "id": "3b565e8f",
   "metadata": {},
   "source": [
    "So these are categorical features in the dataset"
   ]
  },
  {
   "cell_type": "code",
   "execution_count": 16,
   "id": "d47130e5",
   "metadata": {},
   "outputs": [
    {
     "name": "stdout",
     "output_type": "stream",
     "text": [
      "The feature is title having categories 11231\n",
      "The feature is location having categories 3106\n",
      "The feature is department having categories 1338\n",
      "The feature is salary_range having categories 875\n",
      "The feature is company_profile having categories 1710\n",
      "The feature is description having categories 14802\n",
      "The feature is requirements having categories 11969\n",
      "The feature is benefits having categories 6206\n",
      "The feature is employment_type having categories 6\n",
      "The feature is required_experience having categories 8\n",
      "The feature is required_education having categories 14\n",
      "The feature is industry having categories 132\n",
      "The feature is function having categories 38\n"
     ]
    }
   ],
   "source": [
    "#Unique data in each feature of categorical features\n",
    "for feature in categorical_features:\n",
    "    print(\"The feature is\",feature,\"having categories\",len(df[feature].unique()))"
   ]
  },
  {
   "cell_type": "code",
   "execution_count": 17,
   "id": "4761e1f2",
   "metadata": {},
   "outputs": [
    {
     "data": {
      "image/png": "[encoded data removed]",
      "text/plain": [
       "<Figure size 432x288 with 1 Axes>"
      ]
     },
     "metadata": {
      "needs_background": "light"
     },
     "output_type": "display_data"
    }
   ],
   "source": [
    "#Let's see the count of the fraudulent and non fraudulent in the dataset\n",
    "sns.countplot(x='fraudulent',data=df)\n",
    "plt.show()"
   ]
  },
  {
   "cell_type": "code",
   "execution_count": 18,
   "id": "a4cc08e7",
   "metadata": {},
   "outputs": [
    {
     "data": {
      "text/plain": [
       "fraudulent\n",
       "0    17014\n",
       "1      866\n",
       "Name: fraudulent, dtype: int64"
      ]
     },
     "execution_count": 18,
     "metadata": {},
     "output_type": "execute_result"
    }
   ],
   "source": [
    "df.groupby('fraudulent')['fraudulent'].count()"
   ]
  },
  {
   "cell_type": "markdown",
   "id": "486abea1",
   "metadata": {},
   "source": [
    "# Feature Engineering"
   ]
  },
  {
   "cell_type": "code",
   "execution_count": 19,
   "id": "e10ac852",
   "metadata": {},
   "outputs": [],
   "source": [
    "# Let's delete the useless features from the dataset\n",
    "features=['job_id','telecommuting','has_company_logo','has_questions','salary_range','employment_type']\n",
    "df=df.drop(features,axis=1)#dropping the feature"
   ]
  },
  {
   "cell_type": "code",
   "execution_count": 20,
   "id": "df5a1d02",
   "metadata": {},
   "outputs": [
    {
     "data": {
      "text/html": [
       "<div>\n",
       "<style scoped>\n",
       "    .dataframe tbody tr th:only-of-type {\n",
       "        vertical-align: middle;\n",
       "    }\n",
       "\n",
       "    .dataframe tbody tr th {\n",
       "        vertical-align: top;\n",
       "    }\n",
       "\n",
       "    .dataframe thead th {\n",
       "        text-align: right;\n",
       "    }\n",
       "</style>\n",
       "<table border=\"1\" class=\"dataframe\">\n",
       "  <thead>\n",
       "    <tr style=\"text-align: right;\">\n",
       "      <th></th>\n",
       "      <th>title</th>\n",
       "      <th>location</th>\n",
       "      <th>department</th>\n",
       "      <th>company_profile</th>\n",
       "      <th>description</th>\n",
       "      <th>requirements</th>\n",
       "      <th>benefits</th>\n",
       "      <th>required_experience</th>\n",
       "      <th>required_education</th>\n",
       "      <th>industry</th>\n",
       "      <th>function</th>\n",
       "      <th>fraudulent</th>\n",
       "    </tr>\n",
       "  </thead>\n",
       "  <tbody>\n",
       "    <tr>\n",
       "      <th>0</th>\n",
       "      <td>Marketing Intern</td>\n",
       "      <td>US, NY, New York</td>\n",
       "      <td>Marketing</td>\n",
       "      <td>We're Food52, and we've created a groundbreaki...</td>\n",
       "      <td>Food52, a fast-growing, James Beard Award-winn...</td>\n",
       "      <td>Experience with content management systems a m...</td>\n",
       "      <td>NaN</td>\n",
       "      <td>Internship</td>\n",
       "      <td>NaN</td>\n",
       "      <td>NaN</td>\n",
       "      <td>Marketing</td>\n",
       "      <td>0</td>\n",
       "    </tr>\n",
       "    <tr>\n",
       "      <th>1</th>\n",
       "      <td>Customer Service - Cloud Video Production</td>\n",
       "      <td>NZ, , Auckland</td>\n",
       "      <td>Success</td>\n",
       "      <td>90 Seconds, the worlds Cloud Video Production ...</td>\n",
       "      <td>Organised - Focused - Vibrant - Awesome!Do you...</td>\n",
       "      <td>What we expect from you:Your key responsibilit...</td>\n",
       "      <td>What you will get from usThrough being part of...</td>\n",
       "      <td>Not Applicable</td>\n",
       "      <td>NaN</td>\n",
       "      <td>Marketing and Advertising</td>\n",
       "      <td>Customer Service</td>\n",
       "      <td>0</td>\n",
       "    </tr>\n",
       "    <tr>\n",
       "      <th>2</th>\n",
       "      <td>Commissioning Machinery Assistant (CMA)</td>\n",
       "      <td>US, IA, Wever</td>\n",
       "      <td>NaN</td>\n",
       "      <td>Valor Services provides Workforce Solutions th...</td>\n",
       "      <td>Our client, located in Houston, is actively se...</td>\n",
       "      <td>Implement pre-commissioning and commissioning ...</td>\n",
       "      <td>NaN</td>\n",
       "      <td>NaN</td>\n",
       "      <td>NaN</td>\n",
       "      <td>NaN</td>\n",
       "      <td>NaN</td>\n",
       "      <td>0</td>\n",
       "    </tr>\n",
       "    <tr>\n",
       "      <th>3</th>\n",
       "      <td>Account Executive - Washington DC</td>\n",
       "      <td>US, DC, Washington</td>\n",
       "      <td>Sales</td>\n",
       "      <td>Our passion for improving quality of life thro...</td>\n",
       "      <td>THE COMPANY: ESRI – Environmental Systems Rese...</td>\n",
       "      <td>EDUCATION: Bachelor’s or Master’s in GIS, busi...</td>\n",
       "      <td>Our culture is anything but corporate—we have ...</td>\n",
       "      <td>Mid-Senior level</td>\n",
       "      <td>Bachelor's Degree</td>\n",
       "      <td>Computer Software</td>\n",
       "      <td>Sales</td>\n",
       "      <td>0</td>\n",
       "    </tr>\n",
       "    <tr>\n",
       "      <th>4</th>\n",
       "      <td>Bill Review Manager</td>\n",
       "      <td>US, FL, Fort Worth</td>\n",
       "      <td>NaN</td>\n",
       "      <td>SpotSource Solutions LLC is a Global Human Cap...</td>\n",
       "      <td>JOB TITLE: Itemization Review ManagerLOCATION:...</td>\n",
       "      <td>QUALIFICATIONS:RN license in the State of Texa...</td>\n",
       "      <td>Full Benefits Offered</td>\n",
       "      <td>Mid-Senior level</td>\n",
       "      <td>Bachelor's Degree</td>\n",
       "      <td>Hospital &amp; Health Care</td>\n",
       "      <td>Health Care Provider</td>\n",
       "      <td>0</td>\n",
       "    </tr>\n",
       "    <tr>\n",
       "      <th>...</th>\n",
       "      <td>...</td>\n",
       "      <td>...</td>\n",
       "      <td>...</td>\n",
       "      <td>...</td>\n",
       "      <td>...</td>\n",
       "      <td>...</td>\n",
       "      <td>...</td>\n",
       "      <td>...</td>\n",
       "      <td>...</td>\n",
       "      <td>...</td>\n",
       "      <td>...</td>\n",
       "      <td>...</td>\n",
       "    </tr>\n",
       "    <tr>\n",
       "      <th>17875</th>\n",
       "      <td>Account Director - Distribution</td>\n",
       "      <td>CA, ON, Toronto</td>\n",
       "      <td>Sales</td>\n",
       "      <td>Vend is looking for some awesome new talent to...</td>\n",
       "      <td>Just in case this is the first time you’ve vis...</td>\n",
       "      <td>To ace this role you:Will eat comprehensive St...</td>\n",
       "      <td>What can you expect from us?We have an open cu...</td>\n",
       "      <td>Mid-Senior level</td>\n",
       "      <td>NaN</td>\n",
       "      <td>Computer Software</td>\n",
       "      <td>Sales</td>\n",
       "      <td>0</td>\n",
       "    </tr>\n",
       "    <tr>\n",
       "      <th>17876</th>\n",
       "      <td>Payroll Accountant</td>\n",
       "      <td>US, PA, Philadelphia</td>\n",
       "      <td>Accounting</td>\n",
       "      <td>WebLinc is the e-commerce platform and service...</td>\n",
       "      <td>The Payroll Accountant will focus primarily on...</td>\n",
       "      <td>- B.A. or B.S. in Accounting- Desire to have f...</td>\n",
       "      <td>Health &amp;amp; WellnessMedical planPrescription ...</td>\n",
       "      <td>Mid-Senior level</td>\n",
       "      <td>Bachelor's Degree</td>\n",
       "      <td>Internet</td>\n",
       "      <td>Accounting/Auditing</td>\n",
       "      <td>0</td>\n",
       "    </tr>\n",
       "    <tr>\n",
       "      <th>17877</th>\n",
       "      <td>Project Cost Control Staff Engineer - Cost Con...</td>\n",
       "      <td>US, TX, Houston</td>\n",
       "      <td>NaN</td>\n",
       "      <td>We Provide Full Time Permanent Positions for m...</td>\n",
       "      <td>Experienced Project Cost Control Staff Enginee...</td>\n",
       "      <td>At least 12 years professional experience.Abil...</td>\n",
       "      <td>NaN</td>\n",
       "      <td>NaN</td>\n",
       "      <td>NaN</td>\n",
       "      <td>NaN</td>\n",
       "      <td>NaN</td>\n",
       "      <td>0</td>\n",
       "    </tr>\n",
       "    <tr>\n",
       "      <th>17878</th>\n",
       "      <td>Graphic Designer</td>\n",
       "      <td>NG, LA, Lagos</td>\n",
       "      <td>NaN</td>\n",
       "      <td>NaN</td>\n",
       "      <td>Nemsia Studios is looking for an experienced v...</td>\n",
       "      <td>1. Must be fluent in the latest versions of Co...</td>\n",
       "      <td>Competitive salary (compensation will be based...</td>\n",
       "      <td>Not Applicable</td>\n",
       "      <td>Professional</td>\n",
       "      <td>Graphic Design</td>\n",
       "      <td>Design</td>\n",
       "      <td>0</td>\n",
       "    </tr>\n",
       "    <tr>\n",
       "      <th>17879</th>\n",
       "      <td>Web Application Developers</td>\n",
       "      <td>NZ, N, Wellington</td>\n",
       "      <td>Engineering</td>\n",
       "      <td>Vend is looking for some awesome new talent to...</td>\n",
       "      <td>Who are we?Vend is an award winning web based ...</td>\n",
       "      <td>We want to hear from you if:You have an in-dep...</td>\n",
       "      <td>NaN</td>\n",
       "      <td>Mid-Senior level</td>\n",
       "      <td>NaN</td>\n",
       "      <td>Computer Software</td>\n",
       "      <td>Engineering</td>\n",
       "      <td>0</td>\n",
       "    </tr>\n",
       "  </tbody>\n",
       "</table>\n",
       "<p>17880 rows × 12 columns</p>\n",
       "</div>"
      ],
      "text/plain": [
       "                                                   title  \\\n",
       "0                                       Marketing Intern   \n",
       "1              Customer Service - Cloud Video Production   \n",
       "2                Commissioning Machinery Assistant (CMA)   \n",
       "3                      Account Executive - Washington DC   \n",
       "4                                    Bill Review Manager   \n",
       "...                                                  ...   \n",
       "17875                   Account Director - Distribution    \n",
       "17876                                 Payroll Accountant   \n",
       "17877  Project Cost Control Staff Engineer - Cost Con...   \n",
       "17878                                   Graphic Designer   \n",
       "17879                         Web Application Developers   \n",
       "\n",
       "                   location   department  \\\n",
       "0          US, NY, New York    Marketing   \n",
       "1            NZ, , Auckland      Success   \n",
       "2             US, IA, Wever          NaN   \n",
       "3        US, DC, Washington        Sales   \n",
       "4        US, FL, Fort Worth          NaN   \n",
       "...                     ...          ...   \n",
       "17875       CA, ON, Toronto        Sales   \n",
       "17876  US, PA, Philadelphia   Accounting   \n",
       "17877       US, TX, Houston          NaN   \n",
       "17878         NG, LA, Lagos          NaN   \n",
       "17879     NZ, N, Wellington  Engineering   \n",
       "\n",
       "                                         company_profile  \\\n",
       "0      We're Food52, and we've created a groundbreaki...   \n",
       "1      90 Seconds, the worlds Cloud Video Production ...   \n",
       "2      Valor Services provides Workforce Solutions th...   \n",
       "3      Our passion for improving quality of life thro...   \n",
       "4      SpotSource Solutions LLC is a Global Human Cap...   \n",
       "...                                                  ...   \n",
       "17875  Vend is looking for some awesome new talent to...   \n",
       "17876  WebLinc is the e-commerce platform and service...   \n",
       "17877  We Provide Full Time Permanent Positions for m...   \n",
       "17878                                                NaN   \n",
       "17879  Vend is looking for some awesome new talent to...   \n",
       "\n",
       "                                             description  \\\n",
       "0      Food52, a fast-growing, James Beard Award-winn...   \n",
       "1      Organised - Focused - Vibrant - Awesome!Do you...   \n",
       "2      Our client, located in Houston, is actively se...   \n",
       "3      THE COMPANY: ESRI – Environmental Systems Rese...   \n",
       "4      JOB TITLE: Itemization Review ManagerLOCATION:...   \n",
       "...                                                  ...   \n",
       "17875  Just in case this is the first time you’ve vis...   \n",
       "17876  The Payroll Accountant will focus primarily on...   \n",
       "17877  Experienced Project Cost Control Staff Enginee...   \n",
       "17878  Nemsia Studios is looking for an experienced v...   \n",
       "17879  Who are we?Vend is an award winning web based ...   \n",
       "\n",
       "                                            requirements  \\\n",
       "0      Experience with content management systems a m...   \n",
       "1      What we expect from you:Your key responsibilit...   \n",
       "2      Implement pre-commissioning and commissioning ...   \n",
       "3      EDUCATION: Bachelor’s or Master’s in GIS, busi...   \n",
       "4      QUALIFICATIONS:RN license in the State of Texa...   \n",
       "...                                                  ...   \n",
       "17875  To ace this role you:Will eat comprehensive St...   \n",
       "17876  - B.A. or B.S. in Accounting- Desire to have f...   \n",
       "17877  At least 12 years professional experience.Abil...   \n",
       "17878  1. Must be fluent in the latest versions of Co...   \n",
       "17879  We want to hear from you if:You have an in-dep...   \n",
       "\n",
       "                                                benefits required_experience  \\\n",
       "0                                                    NaN          Internship   \n",
       "1      What you will get from usThrough being part of...      Not Applicable   \n",
       "2                                                    NaN                 NaN   \n",
       "3      Our culture is anything but corporate—we have ...    Mid-Senior level   \n",
       "4                                  Full Benefits Offered    Mid-Senior level   \n",
       "...                                                  ...                 ...   \n",
       "17875  What can you expect from us?We have an open cu...    Mid-Senior level   \n",
       "17876  Health &amp; WellnessMedical planPrescription ...    Mid-Senior level   \n",
       "17877                                                NaN                 NaN   \n",
       "17878  Competitive salary (compensation will be based...      Not Applicable   \n",
       "17879                                                NaN    Mid-Senior level   \n",
       "\n",
       "      required_education                   industry              function  \\\n",
       "0                    NaN                        NaN             Marketing   \n",
       "1                    NaN  Marketing and Advertising      Customer Service   \n",
       "2                    NaN                        NaN                   NaN   \n",
       "3      Bachelor's Degree          Computer Software                 Sales   \n",
       "4      Bachelor's Degree     Hospital & Health Care  Health Care Provider   \n",
       "...                  ...                        ...                   ...   \n",
       "17875                NaN          Computer Software                 Sales   \n",
       "17876  Bachelor's Degree                   Internet   Accounting/Auditing   \n",
       "17877                NaN                        NaN                   NaN   \n",
       "17878       Professional             Graphic Design                Design   \n",
       "17879                NaN          Computer Software           Engineering   \n",
       "\n",
       "       fraudulent  \n",
       "0               0  \n",
       "1               0  \n",
       "2               0  \n",
       "3               0  \n",
       "4               0  \n",
       "...           ...  \n",
       "17875           0  \n",
       "17876           0  \n",
       "17877           0  \n",
       "17878           0  \n",
       "17879           0  \n",
       "\n",
       "[17880 rows x 12 columns]"
      ]
     },
     "execution_count": 20,
     "metadata": {},
     "output_type": "execute_result"
    }
   ],
   "source": [
    "df"
   ]
  },
  {
   "cell_type": "code",
   "execution_count": 21,
   "id": "6a131ce8",
   "metadata": {},
   "outputs": [],
   "source": [
    "#Fill the NaN values with '' in the dataset\n",
    "df.fillna('',inplace=True)"
   ]
  },
  {
   "cell_type": "code",
   "execution_count": 22,
   "id": "32c5aff5",
   "metadata": {},
   "outputs": [
    {
     "data": {
      "text/html": [
       "<div>\n",
       "<style scoped>\n",
       "    .dataframe tbody tr th:only-of-type {\n",
       "        vertical-align: middle;\n",
       "    }\n",
       "\n",
       "    .dataframe tbody tr th {\n",
       "        vertical-align: top;\n",
       "    }\n",
       "\n",
       "    .dataframe thead th {\n",
       "        text-align: right;\n",
       "    }\n",
       "</style>\n",
       "<table border=\"1\" class=\"dataframe\">\n",
       "  <thead>\n",
       "    <tr style=\"text-align: right;\">\n",
       "      <th></th>\n",
       "      <th>title</th>\n",
       "      <th>location</th>\n",
       "      <th>department</th>\n",
       "      <th>company_profile</th>\n",
       "      <th>description</th>\n",
       "      <th>requirements</th>\n",
       "      <th>benefits</th>\n",
       "      <th>required_experience</th>\n",
       "      <th>required_education</th>\n",
       "      <th>industry</th>\n",
       "      <th>function</th>\n",
       "      <th>fraudulent</th>\n",
       "    </tr>\n",
       "  </thead>\n",
       "  <tbody>\n",
       "    <tr>\n",
       "      <th>0</th>\n",
       "      <td>Marketing Intern</td>\n",
       "      <td>US, NY, New York</td>\n",
       "      <td>Marketing</td>\n",
       "      <td>We're Food52, and we've created a groundbreaki...</td>\n",
       "      <td>Food52, a fast-growing, James Beard Award-winn...</td>\n",
       "      <td>Experience with content management systems a m...</td>\n",
       "      <td></td>\n",
       "      <td>Internship</td>\n",
       "      <td></td>\n",
       "      <td></td>\n",
       "      <td>Marketing</td>\n",
       "      <td>0</td>\n",
       "    </tr>\n",
       "    <tr>\n",
       "      <th>1</th>\n",
       "      <td>Customer Service - Cloud Video Production</td>\n",
       "      <td>NZ, , Auckland</td>\n",
       "      <td>Success</td>\n",
       "      <td>90 Seconds, the worlds Cloud Video Production ...</td>\n",
       "      <td>Organised - Focused - Vibrant - Awesome!Do you...</td>\n",
       "      <td>What we expect from you:Your key responsibilit...</td>\n",
       "      <td>What you will get from usThrough being part of...</td>\n",
       "      <td>Not Applicable</td>\n",
       "      <td></td>\n",
       "      <td>Marketing and Advertising</td>\n",
       "      <td>Customer Service</td>\n",
       "      <td>0</td>\n",
       "    </tr>\n",
       "    <tr>\n",
       "      <th>2</th>\n",
       "      <td>Commissioning Machinery Assistant (CMA)</td>\n",
       "      <td>US, IA, Wever</td>\n",
       "      <td></td>\n",
       "      <td>Valor Services provides Workforce Solutions th...</td>\n",
       "      <td>Our client, located in Houston, is actively se...</td>\n",
       "      <td>Implement pre-commissioning and commissioning ...</td>\n",
       "      <td></td>\n",
       "      <td></td>\n",
       "      <td></td>\n",
       "      <td></td>\n",
       "      <td></td>\n",
       "      <td>0</td>\n",
       "    </tr>\n",
       "    <tr>\n",
       "      <th>3</th>\n",
       "      <td>Account Executive - Washington DC</td>\n",
       "      <td>US, DC, Washington</td>\n",
       "      <td>Sales</td>\n",
       "      <td>Our passion for improving quality of life thro...</td>\n",
       "      <td>THE COMPANY: ESRI – Environmental Systems Rese...</td>\n",
       "      <td>EDUCATION: Bachelor’s or Master’s in GIS, busi...</td>\n",
       "      <td>Our culture is anything but corporate—we have ...</td>\n",
       "      <td>Mid-Senior level</td>\n",
       "      <td>Bachelor's Degree</td>\n",
       "      <td>Computer Software</td>\n",
       "      <td>Sales</td>\n",
       "      <td>0</td>\n",
       "    </tr>\n",
       "    <tr>\n",
       "      <th>4</th>\n",
       "      <td>Bill Review Manager</td>\n",
       "      <td>US, FL, Fort Worth</td>\n",
       "      <td></td>\n",
       "      <td>SpotSource Solutions LLC is a Global Human Cap...</td>\n",
       "      <td>JOB TITLE: Itemization Review ManagerLOCATION:...</td>\n",
       "      <td>QUALIFICATIONS:RN license in the State of Texa...</td>\n",
       "      <td>Full Benefits Offered</td>\n",
       "      <td>Mid-Senior level</td>\n",
       "      <td>Bachelor's Degree</td>\n",
       "      <td>Hospital &amp; Health Care</td>\n",
       "      <td>Health Care Provider</td>\n",
       "      <td>0</td>\n",
       "    </tr>\n",
       "    <tr>\n",
       "      <th>...</th>\n",
       "      <td>...</td>\n",
       "      <td>...</td>\n",
       "      <td>...</td>\n",
       "      <td>...</td>\n",
       "      <td>...</td>\n",
       "      <td>...</td>\n",
       "      <td>...</td>\n",
       "      <td>...</td>\n",
       "      <td>...</td>\n",
       "      <td>...</td>\n",
       "      <td>...</td>\n",
       "      <td>...</td>\n",
       "    </tr>\n",
       "    <tr>\n",
       "      <th>17875</th>\n",
       "      <td>Account Director - Distribution</td>\n",
       "      <td>CA, ON, Toronto</td>\n",
       "      <td>Sales</td>\n",
       "      <td>Vend is looking for some awesome new talent to...</td>\n",
       "      <td>Just in case this is the first time you’ve vis...</td>\n",
       "      <td>To ace this role you:Will eat comprehensive St...</td>\n",
       "      <td>What can you expect from us?We have an open cu...</td>\n",
       "      <td>Mid-Senior level</td>\n",
       "      <td></td>\n",
       "      <td>Computer Software</td>\n",
       "      <td>Sales</td>\n",
       "      <td>0</td>\n",
       "    </tr>\n",
       "    <tr>\n",
       "      <th>17876</th>\n",
       "      <td>Payroll Accountant</td>\n",
       "      <td>US, PA, Philadelphia</td>\n",
       "      <td>Accounting</td>\n",
       "      <td>WebLinc is the e-commerce platform and service...</td>\n",
       "      <td>The Payroll Accountant will focus primarily on...</td>\n",
       "      <td>- B.A. or B.S. in Accounting- Desire to have f...</td>\n",
       "      <td>Health &amp;amp; WellnessMedical planPrescription ...</td>\n",
       "      <td>Mid-Senior level</td>\n",
       "      <td>Bachelor's Degree</td>\n",
       "      <td>Internet</td>\n",
       "      <td>Accounting/Auditing</td>\n",
       "      <td>0</td>\n",
       "    </tr>\n",
       "    <tr>\n",
       "      <th>17877</th>\n",
       "      <td>Project Cost Control Staff Engineer - Cost Con...</td>\n",
       "      <td>US, TX, Houston</td>\n",
       "      <td></td>\n",
       "      <td>We Provide Full Time Permanent Positions for m...</td>\n",
       "      <td>Experienced Project Cost Control Staff Enginee...</td>\n",
       "      <td>At least 12 years professional experience.Abil...</td>\n",
       "      <td></td>\n",
       "      <td></td>\n",
       "      <td></td>\n",
       "      <td></td>\n",
       "      <td></td>\n",
       "      <td>0</td>\n",
       "    </tr>\n",
       "    <tr>\n",
       "      <th>17878</th>\n",
       "      <td>Graphic Designer</td>\n",
       "      <td>NG, LA, Lagos</td>\n",
       "      <td></td>\n",
       "      <td></td>\n",
       "      <td>Nemsia Studios is looking for an experienced v...</td>\n",
       "      <td>1. Must be fluent in the latest versions of Co...</td>\n",
       "      <td>Competitive salary (compensation will be based...</td>\n",
       "      <td>Not Applicable</td>\n",
       "      <td>Professional</td>\n",
       "      <td>Graphic Design</td>\n",
       "      <td>Design</td>\n",
       "      <td>0</td>\n",
       "    </tr>\n",
       "    <tr>\n",
       "      <th>17879</th>\n",
       "      <td>Web Application Developers</td>\n",
       "      <td>NZ, N, Wellington</td>\n",
       "      <td>Engineering</td>\n",
       "      <td>Vend is looking for some awesome new talent to...</td>\n",
       "      <td>Who are we?Vend is an award winning web based ...</td>\n",
       "      <td>We want to hear from you if:You have an in-dep...</td>\n",
       "      <td></td>\n",
       "      <td>Mid-Senior level</td>\n",
       "      <td></td>\n",
       "      <td>Computer Software</td>\n",
       "      <td>Engineering</td>\n",
       "      <td>0</td>\n",
       "    </tr>\n",
       "  </tbody>\n",
       "</table>\n",
       "<p>17880 rows × 12 columns</p>\n",
       "</div>"
      ],
      "text/plain": [
       "                                                   title  \\\n",
       "0                                       Marketing Intern   \n",
       "1              Customer Service - Cloud Video Production   \n",
       "2                Commissioning Machinery Assistant (CMA)   \n",
       "3                      Account Executive - Washington DC   \n",
       "4                                    Bill Review Manager   \n",
       "...                                                  ...   \n",
       "17875                   Account Director - Distribution    \n",
       "17876                                 Payroll Accountant   \n",
       "17877  Project Cost Control Staff Engineer - Cost Con...   \n",
       "17878                                   Graphic Designer   \n",
       "17879                         Web Application Developers   \n",
       "\n",
       "                   location   department  \\\n",
       "0          US, NY, New York    Marketing   \n",
       "1            NZ, , Auckland      Success   \n",
       "2             US, IA, Wever                \n",
       "3        US, DC, Washington        Sales   \n",
       "4        US, FL, Fort Worth                \n",
       "...                     ...          ...   \n",
       "17875       CA, ON, Toronto        Sales   \n",
       "17876  US, PA, Philadelphia   Accounting   \n",
       "17877       US, TX, Houston                \n",
       "17878         NG, LA, Lagos                \n",
       "17879     NZ, N, Wellington  Engineering   \n",
       "\n",
       "                                         company_profile  \\\n",
       "0      We're Food52, and we've created a groundbreaki...   \n",
       "1      90 Seconds, the worlds Cloud Video Production ...   \n",
       "2      Valor Services provides Workforce Solutions th...   \n",
       "3      Our passion for improving quality of life thro...   \n",
       "4      SpotSource Solutions LLC is a Global Human Cap...   \n",
       "...                                                  ...   \n",
       "17875  Vend is looking for some awesome new talent to...   \n",
       "17876  WebLinc is the e-commerce platform and service...   \n",
       "17877  We Provide Full Time Permanent Positions for m...   \n",
       "17878                                                      \n",
       "17879  Vend is looking for some awesome new talent to...   \n",
       "\n",
       "                                             description  \\\n",
       "0      Food52, a fast-growing, James Beard Award-winn...   \n",
       "1      Organised - Focused - Vibrant - Awesome!Do you...   \n",
       "2      Our client, located in Houston, is actively se...   \n",
       "3      THE COMPANY: ESRI – Environmental Systems Rese...   \n",
       "4      JOB TITLE: Itemization Review ManagerLOCATION:...   \n",
       "...                                                  ...   \n",
       "17875  Just in case this is the first time you’ve vis...   \n",
       "17876  The Payroll Accountant will focus primarily on...   \n",
       "17877  Experienced Project Cost Control Staff Enginee...   \n",
       "17878  Nemsia Studios is looking for an experienced v...   \n",
       "17879  Who are we?Vend is an award winning web based ...   \n",
       "\n",
       "                                            requirements  \\\n",
       "0      Experience with content management systems a m...   \n",
       "1      What we expect from you:Your key responsibilit...   \n",
       "2      Implement pre-commissioning and commissioning ...   \n",
       "3      EDUCATION: Bachelor’s or Master’s in GIS, busi...   \n",
       "4      QUALIFICATIONS:RN license in the State of Texa...   \n",
       "...                                                  ...   \n",
       "17875  To ace this role you:Will eat comprehensive St...   \n",
       "17876  - B.A. or B.S. in Accounting- Desire to have f...   \n",
       "17877  At least 12 years professional experience.Abil...   \n",
       "17878  1. Must be fluent in the latest versions of Co...   \n",
       "17879  We want to hear from you if:You have an in-dep...   \n",
       "\n",
       "                                                benefits required_experience  \\\n",
       "0                                                                 Internship   \n",
       "1      What you will get from usThrough being part of...      Not Applicable   \n",
       "2                                                                              \n",
       "3      Our culture is anything but corporate—we have ...    Mid-Senior level   \n",
       "4                                  Full Benefits Offered    Mid-Senior level   \n",
       "...                                                  ...                 ...   \n",
       "17875  What can you expect from us?We have an open cu...    Mid-Senior level   \n",
       "17876  Health &amp; WellnessMedical planPrescription ...    Mid-Senior level   \n",
       "17877                                                                          \n",
       "17878  Competitive salary (compensation will be based...      Not Applicable   \n",
       "17879                                                       Mid-Senior level   \n",
       "\n",
       "      required_education                   industry              function  \\\n",
       "0                                                               Marketing   \n",
       "1                         Marketing and Advertising      Customer Service   \n",
       "2                                                                           \n",
       "3      Bachelor's Degree          Computer Software                 Sales   \n",
       "4      Bachelor's Degree     Hospital & Health Care  Health Care Provider   \n",
       "...                  ...                        ...                   ...   \n",
       "17875                             Computer Software                 Sales   \n",
       "17876  Bachelor's Degree                   Internet   Accounting/Auditing   \n",
       "17877                                                                       \n",
       "17878       Professional             Graphic Design                Design   \n",
       "17879                             Computer Software           Engineering   \n",
       "\n",
       "       fraudulent  \n",
       "0               0  \n",
       "1               0  \n",
       "2               0  \n",
       "3               0  \n",
       "4               0  \n",
       "...           ...  \n",
       "17875           0  \n",
       "17876           0  \n",
       "17877           0  \n",
       "17878           0  \n",
       "17879           0  \n",
       "\n",
       "[17880 rows x 12 columns]"
      ]
     },
     "execution_count": 22,
     "metadata": {},
     "output_type": "execute_result"
    }
   ],
   "source": [
    "df"
   ]
  },
  {
   "cell_type": "code",
   "execution_count": 23,
   "id": "0d1ebeb7",
   "metadata": {},
   "outputs": [
    {
     "data": {
      "text/plain": [
       "title                  0\n",
       "location               0\n",
       "department             0\n",
       "company_profile        0\n",
       "description            0\n",
       "requirements           0\n",
       "benefits               0\n",
       "required_experience    0\n",
       "required_education     0\n",
       "industry               0\n",
       "function               0\n",
       "fraudulent             0\n",
       "dtype: int64"
      ]
     },
     "execution_count": 23,
     "metadata": {},
     "output_type": "execute_result"
    }
   ],
   "source": [
    "df.isnull().sum()"
   ]
  },
  {
   "cell_type": "code",
   "execution_count": 24,
   "id": "36760051",
   "metadata": {},
   "outputs": [],
   "source": [
    "#Experience\n",
    "exp=dict(df.required_experience.value_counts())\n",
    "del exp['']"
   ]
  },
  {
   "cell_type": "code",
   "execution_count": 25,
   "id": "97a9b9dc",
   "metadata": {},
   "outputs": [
    {
     "data": {
      "text/plain": [
       "{'Mid-Senior level': 3809,\n",
       " 'Entry level': 2697,\n",
       " 'Associate': 2297,\n",
       " 'Not Applicable': 1116,\n",
       " 'Director': 389,\n",
       " 'Internship': 381,\n",
       " 'Executive': 141}"
      ]
     },
     "execution_count": 25,
     "metadata": {},
     "output_type": "execute_result"
    }
   ],
   "source": [
    "exp"
   ]
  },
  {
   "cell_type": "code",
   "execution_count": 34,
   "id": "a0169f1b",
   "metadata": {},
   "outputs": [
    {
     "data": {
      "image/png": "[encoded data removed]",
      "text/plain": [
       "<Figure size 432x288 with 1 Axes>"
      ]
     },
     "metadata": {
      "needs_background": "light"
     },
     "output_type": "display_data"
    }
   ],
   "source": [
    "#plt.figure(figsize=(10,10))\n",
    "plt.bar(exp.keys(),exp.values())\n",
    "plt.xlabel('Required experience',size=10)\n",
    "plt.ylabel(\"No of jobs\",size=10)\n",
    "plt.title(\"No of jobs with experience\",size=10)\n",
    "plt.xticks(rotation=20,size=10)\n",
    "plt.yticks(size=10)\n",
    "plt.show()"
   ]
  },
  {
   "cell_type": "code",
   "execution_count": 35,
   "id": "091a3eac",
   "metadata": {},
   "outputs": [],
   "source": [
    "def split(location):\n",
    "    l=location.split(',')\n",
    "    return l[0]\n",
    "df['country']=df.location.apply(split)"
   ]
  },
  {
   "cell_type": "code",
   "execution_count": 36,
   "id": "c6f8d0e8",
   "metadata": {},
   "outputs": [
    {
     "data": {
      "text/html": [
       "<div>\n",
       "<style scoped>\n",
       "    .dataframe tbody tr th:only-of-type {\n",
       "        vertical-align: middle;\n",
       "    }\n",
       "\n",
       "    .dataframe tbody tr th {\n",
       "        vertical-align: top;\n",
       "    }\n",
       "\n",
       "    .dataframe thead th {\n",
       "        text-align: right;\n",
       "    }\n",
       "</style>\n",
       "<table border=\"1\" class=\"dataframe\">\n",
       "  <thead>\n",
       "    <tr style=\"text-align: right;\">\n",
       "      <th></th>\n",
       "      <th>title</th>\n",
       "      <th>location</th>\n",
       "      <th>department</th>\n",
       "      <th>company_profile</th>\n",
       "      <th>description</th>\n",
       "      <th>requirements</th>\n",
       "      <th>benefits</th>\n",
       "      <th>required_experience</th>\n",
       "      <th>required_education</th>\n",
       "      <th>industry</th>\n",
       "      <th>function</th>\n",
       "      <th>fraudulent</th>\n",
       "      <th>country</th>\n",
       "    </tr>\n",
       "  </thead>\n",
       "  <tbody>\n",
       "    <tr>\n",
       "      <th>0</th>\n",
       "      <td>Marketing Intern</td>\n",
       "      <td>US, NY, New York</td>\n",
       "      <td>Marketing</td>\n",
       "      <td>We're Food52, and we've created a groundbreaki...</td>\n",
       "      <td>Food52, a fast-growing, James Beard Award-winn...</td>\n",
       "      <td>Experience with content management systems a m...</td>\n",
       "      <td></td>\n",
       "      <td>Internship</td>\n",
       "      <td></td>\n",
       "      <td></td>\n",
       "      <td>Marketing</td>\n",
       "      <td>0</td>\n",
       "      <td>US</td>\n",
       "    </tr>\n",
       "    <tr>\n",
       "      <th>1</th>\n",
       "      <td>Customer Service - Cloud Video Production</td>\n",
       "      <td>NZ, , Auckland</td>\n",
       "      <td>Success</td>\n",
       "      <td>90 Seconds, the worlds Cloud Video Production ...</td>\n",
       "      <td>Organised - Focused - Vibrant - Awesome!Do you...</td>\n",
       "      <td>What we expect from you:Your key responsibilit...</td>\n",
       "      <td>What you will get from usThrough being part of...</td>\n",
       "      <td>Not Applicable</td>\n",
       "      <td></td>\n",
       "      <td>Marketing and Advertising</td>\n",
       "      <td>Customer Service</td>\n",
       "      <td>0</td>\n",
       "      <td>NZ</td>\n",
       "    </tr>\n",
       "    <tr>\n",
       "      <th>2</th>\n",
       "      <td>Commissioning Machinery Assistant (CMA)</td>\n",
       "      <td>US, IA, Wever</td>\n",
       "      <td></td>\n",
       "      <td>Valor Services provides Workforce Solutions th...</td>\n",
       "      <td>Our client, located in Houston, is actively se...</td>\n",
       "      <td>Implement pre-commissioning and commissioning ...</td>\n",
       "      <td></td>\n",
       "      <td></td>\n",
       "      <td></td>\n",
       "      <td></td>\n",
       "      <td></td>\n",
       "      <td>0</td>\n",
       "      <td>US</td>\n",
       "    </tr>\n",
       "    <tr>\n",
       "      <th>3</th>\n",
       "      <td>Account Executive - Washington DC</td>\n",
       "      <td>US, DC, Washington</td>\n",
       "      <td>Sales</td>\n",
       "      <td>Our passion for improving quality of life thro...</td>\n",
       "      <td>THE COMPANY: ESRI – Environmental Systems Rese...</td>\n",
       "      <td>EDUCATION: Bachelor’s or Master’s in GIS, busi...</td>\n",
       "      <td>Our culture is anything but corporate—we have ...</td>\n",
       "      <td>Mid-Senior level</td>\n",
       "      <td>Bachelor's Degree</td>\n",
       "      <td>Computer Software</td>\n",
       "      <td>Sales</td>\n",
       "      <td>0</td>\n",
       "      <td>US</td>\n",
       "    </tr>\n",
       "    <tr>\n",
       "      <th>4</th>\n",
       "      <td>Bill Review Manager</td>\n",
       "      <td>US, FL, Fort Worth</td>\n",
       "      <td></td>\n",
       "      <td>SpotSource Solutions LLC is a Global Human Cap...</td>\n",
       "      <td>JOB TITLE: Itemization Review ManagerLOCATION:...</td>\n",
       "      <td>QUALIFICATIONS:RN license in the State of Texa...</td>\n",
       "      <td>Full Benefits Offered</td>\n",
       "      <td>Mid-Senior level</td>\n",
       "      <td>Bachelor's Degree</td>\n",
       "      <td>Hospital &amp; Health Care</td>\n",
       "      <td>Health Care Provider</td>\n",
       "      <td>0</td>\n",
       "      <td>US</td>\n",
       "    </tr>\n",
       "    <tr>\n",
       "      <th>...</th>\n",
       "      <td>...</td>\n",
       "      <td>...</td>\n",
       "      <td>...</td>\n",
       "      <td>...</td>\n",
       "      <td>...</td>\n",
       "      <td>...</td>\n",
       "      <td>...</td>\n",
       "      <td>...</td>\n",
       "      <td>...</td>\n",
       "      <td>...</td>\n",
       "      <td>...</td>\n",
       "      <td>...</td>\n",
       "      <td>...</td>\n",
       "    </tr>\n",
       "    <tr>\n",
       "      <th>17875</th>\n",
       "      <td>Account Director - Distribution</td>\n",
       "      <td>CA, ON, Toronto</td>\n",
       "      <td>Sales</td>\n",
       "      <td>Vend is looking for some awesome new talent to...</td>\n",
       "      <td>Just in case this is the first time you’ve vis...</td>\n",
       "      <td>To ace this role you:Will eat comprehensive St...</td>\n",
       "      <td>What can you expect from us?We have an open cu...</td>\n",
       "      <td>Mid-Senior level</td>\n",
       "      <td></td>\n",
       "      <td>Computer Software</td>\n",
       "      <td>Sales</td>\n",
       "      <td>0</td>\n",
       "      <td>CA</td>\n",
       "    </tr>\n",
       "    <tr>\n",
       "      <th>17876</th>\n",
       "      <td>Payroll Accountant</td>\n",
       "      <td>US, PA, Philadelphia</td>\n",
       "      <td>Accounting</td>\n",
       "      <td>WebLinc is the e-commerce platform and service...</td>\n",
       "      <td>The Payroll Accountant will focus primarily on...</td>\n",
       "      <td>- B.A. or B.S. in Accounting- Desire to have f...</td>\n",
       "      <td>Health &amp;amp; WellnessMedical planPrescription ...</td>\n",
       "      <td>Mid-Senior level</td>\n",
       "      <td>Bachelor's Degree</td>\n",
       "      <td>Internet</td>\n",
       "      <td>Accounting/Auditing</td>\n",
       "      <td>0</td>\n",
       "      <td>US</td>\n",
       "    </tr>\n",
       "    <tr>\n",
       "      <th>17877</th>\n",
       "      <td>Project Cost Control Staff Engineer - Cost Con...</td>\n",
       "      <td>US, TX, Houston</td>\n",
       "      <td></td>\n",
       "      <td>We Provide Full Time Permanent Positions for m...</td>\n",
       "      <td>Experienced Project Cost Control Staff Enginee...</td>\n",
       "      <td>At least 12 years professional experience.Abil...</td>\n",
       "      <td></td>\n",
       "      <td></td>\n",
       "      <td></td>\n",
       "      <td></td>\n",
       "      <td></td>\n",
       "      <td>0</td>\n",
       "      <td>US</td>\n",
       "    </tr>\n",
       "    <tr>\n",
       "      <th>17878</th>\n",
       "      <td>Graphic Designer</td>\n",
       "      <td>NG, LA, Lagos</td>\n",
       "      <td></td>\n",
       "      <td></td>\n",
       "      <td>Nemsia Studios is looking for an experienced v...</td>\n",
       "      <td>1. Must be fluent in the latest versions of Co...</td>\n",
       "      <td>Competitive salary (compensation will be based...</td>\n",
       "      <td>Not Applicable</td>\n",
       "      <td>Professional</td>\n",
       "      <td>Graphic Design</td>\n",
       "      <td>Design</td>\n",
       "      <td>0</td>\n",
       "      <td>NG</td>\n",
       "    </tr>\n",
       "    <tr>\n",
       "      <th>17879</th>\n",
       "      <td>Web Application Developers</td>\n",
       "      <td>NZ, N, Wellington</td>\n",
       "      <td>Engineering</td>\n",
       "      <td>Vend is looking for some awesome new talent to...</td>\n",
       "      <td>Who are we?Vend is an award winning web based ...</td>\n",
       "      <td>We want to hear from you if:You have an in-dep...</td>\n",
       "      <td></td>\n",
       "      <td>Mid-Senior level</td>\n",
       "      <td></td>\n",
       "      <td>Computer Software</td>\n",
       "      <td>Engineering</td>\n",
       "      <td>0</td>\n",
       "      <td>NZ</td>\n",
       "    </tr>\n",
       "  </tbody>\n",
       "</table>\n",
       "<p>17880 rows × 13 columns</p>\n",
       "</div>"
      ],
      "text/plain": [
       "                                                   title  \\\n",
       "0                                       Marketing Intern   \n",
       "1              Customer Service - Cloud Video Production   \n",
       "2                Commissioning Machinery Assistant (CMA)   \n",
       "3                      Account Executive - Washington DC   \n",
       "4                                    Bill Review Manager   \n",
       "...                                                  ...   \n",
       "17875                   Account Director - Distribution    \n",
       "17876                                 Payroll Accountant   \n",
       "17877  Project Cost Control Staff Engineer - Cost Con...   \n",
       "17878                                   Graphic Designer   \n",
       "17879                         Web Application Developers   \n",
       "\n",
       "                   location   department  \\\n",
       "0          US, NY, New York    Marketing   \n",
       "1            NZ, , Auckland      Success   \n",
       "2             US, IA, Wever                \n",
       "3        US, DC, Washington        Sales   \n",
       "4        US, FL, Fort Worth                \n",
       "...                     ...          ...   \n",
       "17875       CA, ON, Toronto        Sales   \n",
       "17876  US, PA, Philadelphia   Accounting   \n",
       "17877       US, TX, Houston                \n",
       "17878         NG, LA, Lagos                \n",
       "17879     NZ, N, Wellington  Engineering   \n",
       "\n",
       "                                         company_profile  \\\n",
       "0      We're Food52, and we've created a groundbreaki...   \n",
       "1      90 Seconds, the worlds Cloud Video Production ...   \n",
       "2      Valor Services provides Workforce Solutions th...   \n",
       "3      Our passion for improving quality of life thro...   \n",
       "4      SpotSource Solutions LLC is a Global Human Cap...   \n",
       "...                                                  ...   \n",
       "17875  Vend is looking for some awesome new talent to...   \n",
       "17876  WebLinc is the e-commerce platform and service...   \n",
       "17877  We Provide Full Time Permanent Positions for m...   \n",
       "17878                                                      \n",
       "17879  Vend is looking for some awesome new talent to...   \n",
       "\n",
       "                                             description  \\\n",
       "0      Food52, a fast-growing, James Beard Award-winn...   \n",
       "1      Organised - Focused - Vibrant - Awesome!Do you...   \n",
       "2      Our client, located in Houston, is actively se...   \n",
       "3      THE COMPANY: ESRI – Environmental Systems Rese...   \n",
       "4      JOB TITLE: Itemization Review ManagerLOCATION:...   \n",
       "...                                                  ...   \n",
       "17875  Just in case this is the first time you’ve vis...   \n",
       "17876  The Payroll Accountant will focus primarily on...   \n",
       "17877  Experienced Project Cost Control Staff Enginee...   \n",
       "17878  Nemsia Studios is looking for an experienced v...   \n",
       "17879  Who are we?Vend is an award winning web based ...   \n",
       "\n",
       "                                            requirements  \\\n",
       "0      Experience with content management systems a m...   \n",
       "1      What we expect from you:Your key responsibilit...   \n",
       "2      Implement pre-commissioning and commissioning ...   \n",
       "3      EDUCATION: Bachelor’s or Master’s in GIS, busi...   \n",
       "4      QUALIFICATIONS:RN license in the State of Texa...   \n",
       "...                                                  ...   \n",
       "17875  To ace this role you:Will eat comprehensive St...   \n",
       "17876  - B.A. or B.S. in Accounting- Desire to have f...   \n",
       "17877  At least 12 years professional experience.Abil...   \n",
       "17878  1. Must be fluent in the latest versions of Co...   \n",
       "17879  We want to hear from you if:You have an in-dep...   \n",
       "\n",
       "                                                benefits required_experience  \\\n",
       "0                                                                 Internship   \n",
       "1      What you will get from usThrough being part of...      Not Applicable   \n",
       "2                                                                              \n",
       "3      Our culture is anything but corporate—we have ...    Mid-Senior level   \n",
       "4                                  Full Benefits Offered    Mid-Senior level   \n",
       "...                                                  ...                 ...   \n",
       "17875  What can you expect from us?We have an open cu...    Mid-Senior level   \n",
       "17876  Health &amp; WellnessMedical planPrescription ...    Mid-Senior level   \n",
       "17877                                                                          \n",
       "17878  Competitive salary (compensation will be based...      Not Applicable   \n",
       "17879                                                       Mid-Senior level   \n",
       "\n",
       "      required_education                   industry              function  \\\n",
       "0                                                               Marketing   \n",
       "1                         Marketing and Advertising      Customer Service   \n",
       "2                                                                           \n",
       "3      Bachelor's Degree          Computer Software                 Sales   \n",
       "4      Bachelor's Degree     Hospital & Health Care  Health Care Provider   \n",
       "...                  ...                        ...                   ...   \n",
       "17875                             Computer Software                 Sales   \n",
       "17876  Bachelor's Degree                   Internet   Accounting/Auditing   \n",
       "17877                                                                       \n",
       "17878       Professional             Graphic Design                Design   \n",
       "17879                             Computer Software           Engineering   \n",
       "\n",
       "       fraudulent country  \n",
       "0               0      US  \n",
       "1               0      NZ  \n",
       "2               0      US  \n",
       "3               0      US  \n",
       "4               0      US  \n",
       "...           ...     ...  \n",
       "17875           0      CA  \n",
       "17876           0      US  \n",
       "17877           0      US  \n",
       "17878           0      NG  \n",
       "17879           0      NZ  \n",
       "\n",
       "[17880 rows x 13 columns]"
      ]
     },
     "execution_count": 36,
     "metadata": {},
     "output_type": "execute_result"
    }
   ],
   "source": [
    "df"
   ]
  },
  {
   "cell_type": "code",
   "execution_count": 37,
   "id": "eeccf7a3",
   "metadata": {},
   "outputs": [],
   "source": [
    "#Countries count\n",
    "countries=dict(df['country'].value_counts())\n",
    "del countries['']"
   ]
  },
  {
   "cell_type": "code",
   "execution_count": 38,
   "id": "ac5f84ee",
   "metadata": {},
   "outputs": [
    {
     "data": {
      "text/plain": [
       "{'US': 10656,\n",
       " 'GB': 2384,\n",
       " 'GR': 940,\n",
       " 'CA': 457,\n",
       " 'DE': 383,\n",
       " 'NZ': 333,\n",
       " 'IN': 276,\n",
       " 'AU': 214,\n",
       " 'PH': 132,\n",
       " 'NL': 127,\n",
       " 'BE': 117,\n",
       " 'IE': 114,\n",
       " 'SG': 80,\n",
       " 'HK': 77,\n",
       " 'PL': 76,\n",
       " 'EE': 72,\n",
       " 'IL': 72,\n",
       " 'FR': 70,\n",
       " 'ES': 66,\n",
       " 'AE': 54,\n",
       " 'EG': 52,\n",
       " 'SE': 49,\n",
       " 'RO': 46,\n",
       " 'DK': 42,\n",
       " 'ZA': 40,\n",
       " 'BR': 36,\n",
       " 'IT': 31,\n",
       " 'FI': 29,\n",
       " 'PK': 27,\n",
       " 'LT': 23,\n",
       " 'MY': 21,\n",
       " 'QA': 21,\n",
       " 'JP': 20,\n",
       " 'RU': 20,\n",
       " 'MX': 18,\n",
       " 'PT': 18,\n",
       " 'BG': 17,\n",
       " 'TR': 17,\n",
       " 'CN': 15,\n",
       " 'CH': 15,\n",
       " 'SA': 15,\n",
       " 'MU': 14,\n",
       " 'HU': 14,\n",
       " 'AT': 14,\n",
       " 'ID': 13,\n",
       " 'MT': 13,\n",
       " 'UA': 13,\n",
       " 'CY': 11,\n",
       " 'IQ': 10,\n",
       " 'KR': 10,\n",
       " 'TH': 10,\n",
       " 'NG': 10,\n",
       " 'AR': 9,\n",
       " 'LU': 9,\n",
       " 'BH': 9,\n",
       " 'BY': 9,\n",
       " 'PA': 9,\n",
       " 'NO': 8,\n",
       " 'RS': 7,\n",
       " 'KE': 7,\n",
       " 'CZ': 6,\n",
       " 'LV': 6,\n",
       " 'VN': 4,\n",
       " 'NI': 4,\n",
       " 'TT': 4,\n",
       " 'TW': 4,\n",
       " 'VI': 3,\n",
       " 'KW': 2,\n",
       " 'TN': 2,\n",
       " 'AM': 2,\n",
       " 'IS': 2,\n",
       " 'LK': 2,\n",
       " 'SK': 2,\n",
       " 'CL': 2,\n",
       " 'ZM': 2,\n",
       " 'BD': 2,\n",
       " 'HR': 1,\n",
       " 'JM': 1,\n",
       " 'KZ': 1,\n",
       " 'SV': 1,\n",
       " 'CM': 1,\n",
       " 'PE': 1,\n",
       " 'AL': 1,\n",
       " 'GH': 1,\n",
       " 'MA': 1,\n",
       " 'SI': 1,\n",
       " 'CO': 1,\n",
       " 'SD': 1,\n",
       " 'UG': 1,\n",
       " 'KH': 1}"
      ]
     },
     "execution_count": 38,
     "metadata": {},
     "output_type": "execute_result"
    }
   ],
   "source": [
    "countries"
   ]
  },
  {
   "cell_type": "markdown",
   "id": "a5f4cd85",
   "metadata": {},
   "source": [
    "we can see that US is in top"
   ]
  },
  {
   "cell_type": "code",
   "execution_count": 39,
   "id": "10a0e7fc",
   "metadata": {},
   "outputs": [
    {
     "data": {
      "text/plain": [
       "{\"Bachelor's Degree\": 5145,\n",
       " 'High School or equivalent': 2080,\n",
       " 'Unspecified': 1397,\n",
       " \"Master's Degree\": 416,\n",
       " 'Associate Degree': 274,\n",
       " 'Certification': 170,\n",
       " 'Some College Coursework Completed': 102,\n",
       " 'Professional': 74,\n",
       " 'Vocational': 49,\n",
       " 'Some High School Coursework': 27,\n",
       " 'Doctorate': 26,\n",
       " 'Vocational - HS Diploma': 9,\n",
       " 'Vocational - Degree': 6}"
      ]
     },
     "execution_count": 39,
     "metadata": {},
     "output_type": "execute_result"
    }
   ],
   "source": [
    "education=dict(df.required_education.value_counts())\n",
    "del education['']\n",
    "education"
   ]
  },
  {
   "cell_type": "code",
   "execution_count": null,
   "id": "e4203717",
   "metadata": {},
   "outputs": [
    {
     "data": {
      "text/plain": [
       "                                     8105\n",
       "Bachelor's Degree                    5145\n",
       "High School or equivalent            2080\n",
       "Unspecified                          1397\n",
       "Master's Degree                       416\n",
       "Associate Degree                      274\n",
       "Certification                         170\n",
       "Some College Coursework Completed     102\n",
       "Professional                           74\n",
       "Vocational                             49\n",
       "Some High School Coursework            27\n",
       "Doctorate                              26\n",
       "Vocational - HS Diploma                 9\n",
       "Vocational - Degree                     6\n",
       "Name: required_education, dtype: int64"
      ]
     },
     "execution_count": 40,
     "metadata": {},
     "output_type": "execute_result"
    }
   ],
   "source": [
    "df['required_education'].value_counts()"
   ]
  },
  {
   "cell_type": "code",
   "execution_count": null,
   "id": "94191f21",
   "metadata": {},
   "outputs": [
    {
     "data": {
      "image/png": "[encoded data removed]",
      "text/plain": [
       "<Figure size 1440x720 with 1 Axes>"
      ]
     },
     "metadata": {
      "needs_background": "light"
     },
     "output_type": "display_data"
    }
   ],
   "source": [
    "# Let's visualize the education count\n",
    "plt.figure(figsize=(20,10))\n",
    "plt.bar(education.keys(),education.values())\n",
    "plt.xlabel('Education',size=10)\n",
    "plt.ylabel('No of jobs',size=10)\n",
    "plt.xticks(rotation=20,size=10)\n",
    "plt.yticks(size=10)\n",
    "plt.show()"
   ]
  },
  {
   "cell_type": "code",
   "execution_count": 34,
   "id": "d0977e43",
   "metadata": {},
   "outputs": [
    {
     "name": "stdout",
     "output_type": "stream",
     "text": [
      "English Teacher Abroad                                311\n",
      "Customer Service Associate                            146\n",
      "Graduates: English Teacher Abroad (Conversational)    144\n",
      "English Teacher Abroad                                 95\n",
      "Software Engineer                                      86\n",
      "English Teacher Abroad (Conversational)                83\n",
      "Customer Service Associate - Part Time                 76\n",
      "Account Manager                                        73\n",
      "Web Developer                                          66\n",
      "Project Manager                                        62\n",
      "Name: title, dtype: int64\n"
     ]
    }
   ],
   "source": [
    "print(df[df.fraudulent==0].title.value_counts()[:10])"
   ]
  },
  {
   "cell_type": "code",
   "execution_count": 35,
   "id": "2ea0b507",
   "metadata": {},
   "outputs": [
    {
     "name": "stdout",
     "output_type": "stream",
     "text": [
      "Data Entry Admin/Clerical Positions - Work From Home                    21\n",
      "Home Based Payroll Typist/Data Entry Clerks Positions Available         21\n",
      "Cruise Staff Wanted *URGENT*                                            21\n",
      "Customer Service Representative                                         17\n",
      "Administrative Assistant                                                16\n",
      "Home Based Payroll Data Entry Clerk Position - Earn $100-$200 Daily     12\n",
      "Account Sales Managers $80-$130,000/yr                                  10\n",
      "Network Marketing                                                       10\n",
      "Payroll Clerk                                                           10\n",
      "Payroll Data Coordinator Positions - Earn $100-$200 Daily               10\n",
      "Name: title, dtype: int64\n"
     ]
    }
   ],
   "source": [
    "print(df[df.fraudulent==1].title.value_counts()[:10])"
   ]
  },
  {
   "cell_type": "markdown",
   "id": "4f4d06ba",
   "metadata": {},
   "source": [
    "## Storing important features in a new feature"
   ]
  },
  {
   "cell_type": "code",
   "execution_count": 36,
   "id": "74f7ebf5",
   "metadata": {},
   "outputs": [],
   "source": [
    "df['text']=df['title']+df['company_profile']+df['description']+df['requirements']+df['benefits']"
   ]
  },
  {
   "cell_type": "code",
   "execution_count": null,
   "id": "b8dab7b5",
   "metadata": {},
   "outputs": [],
   "source": [
    "df"
   ]
  },
  {
   "cell_type": "code",
   "execution_count": 38,
   "id": "21d9f4b4",
   "metadata": {},
   "outputs": [
    {
     "data": {
      "text/html": [
       "<div>\n",
       "<style scoped>\n",
       "    .dataframe tbody tr th:only-of-type {\n",
       "        vertical-align: middle;\n",
       "    }\n",
       "\n",
       "    .dataframe tbody tr th {\n",
       "        vertical-align: top;\n",
       "    }\n",
       "\n",
       "    .dataframe thead th {\n",
       "        text-align: right;\n",
       "    }\n",
       "</style>\n",
       "<table border=\"1\" class=\"dataframe\">\n",
       "  <thead>\n",
       "    <tr style=\"text-align: right;\">\n",
       "      <th></th>\n",
       "      <th>fraudulent</th>\n",
       "      <th>text</th>\n",
       "    </tr>\n",
       "  </thead>\n",
       "  <tbody>\n",
       "    <tr>\n",
       "      <th>0</th>\n",
       "      <td>0</td>\n",
       "      <td>Marketing InternWe're Food52, and we've create...</td>\n",
       "    </tr>\n",
       "    <tr>\n",
       "      <th>1</th>\n",
       "      <td>0</td>\n",
       "      <td>Customer Service - Cloud Video Production90 Se...</td>\n",
       "    </tr>\n",
       "    <tr>\n",
       "      <th>2</th>\n",
       "      <td>0</td>\n",
       "      <td>Commissioning Machinery Assistant (CMA)Valor S...</td>\n",
       "    </tr>\n",
       "    <tr>\n",
       "      <th>3</th>\n",
       "      <td>0</td>\n",
       "      <td>Account Executive - Washington DCOur passion f...</td>\n",
       "    </tr>\n",
       "    <tr>\n",
       "      <th>4</th>\n",
       "      <td>0</td>\n",
       "      <td>Bill Review ManagerSpotSource Solutions LLC is...</td>\n",
       "    </tr>\n",
       "    <tr>\n",
       "      <th>...</th>\n",
       "      <td>...</td>\n",
       "      <td>...</td>\n",
       "    </tr>\n",
       "    <tr>\n",
       "      <th>17875</th>\n",
       "      <td>0</td>\n",
       "      <td>Account Director - Distribution Vend is lookin...</td>\n",
       "    </tr>\n",
       "    <tr>\n",
       "      <th>17876</th>\n",
       "      <td>0</td>\n",
       "      <td>Payroll AccountantWebLinc is the e-commerce pl...</td>\n",
       "    </tr>\n",
       "    <tr>\n",
       "      <th>17877</th>\n",
       "      <td>0</td>\n",
       "      <td>Project Cost Control Staff Engineer - Cost Con...</td>\n",
       "    </tr>\n",
       "    <tr>\n",
       "      <th>17878</th>\n",
       "      <td>0</td>\n",
       "      <td>Graphic DesignerNemsia Studios is looking for ...</td>\n",
       "    </tr>\n",
       "    <tr>\n",
       "      <th>17879</th>\n",
       "      <td>0</td>\n",
       "      <td>Web Application DevelopersVend is looking for ...</td>\n",
       "    </tr>\n",
       "  </tbody>\n",
       "</table>\n",
       "<p>17880 rows × 2 columns</p>\n",
       "</div>"
      ],
      "text/plain": [
       "       fraudulent                                               text\n",
       "0               0  Marketing InternWe're Food52, and we've create...\n",
       "1               0  Customer Service - Cloud Video Production90 Se...\n",
       "2               0  Commissioning Machinery Assistant (CMA)Valor S...\n",
       "3               0  Account Executive - Washington DCOur passion f...\n",
       "4               0  Bill Review ManagerSpotSource Solutions LLC is...\n",
       "...           ...                                                ...\n",
       "17875           0  Account Director - Distribution Vend is lookin...\n",
       "17876           0  Payroll AccountantWebLinc is the e-commerce pl...\n",
       "17877           0  Project Cost Control Staff Engineer - Cost Con...\n",
       "17878           0  Graphic DesignerNemsia Studios is looking for ...\n",
       "17879           0  Web Application DevelopersVend is looking for ...\n",
       "\n",
       "[17880 rows x 2 columns]"
      ]
     },
     "execution_count": 38,
     "metadata": {},
     "output_type": "execute_result"
    }
   ],
   "source": [
    "df#text-independent feature and fraudulent-dependent feature"
   ]
  },
  {
   "cell_type": "code",
   "execution_count": 39,
   "id": "b969cc3d",
   "metadata": {},
   "outputs": [
    {
     "data": {
      "text/html": [
       "<div>\n",
       "<style scoped>\n",
       "    .dataframe tbody tr th:only-of-type {\n",
       "        vertical-align: middle;\n",
       "    }\n",
       "\n",
       "    .dataframe tbody tr th {\n",
       "        vertical-align: top;\n",
       "    }\n",
       "\n",
       "    .dataframe thead th {\n",
       "        text-align: right;\n",
       "    }\n",
       "</style>\n",
       "<table border=\"1\" class=\"dataframe\">\n",
       "  <thead>\n",
       "    <tr style=\"text-align: right;\">\n",
       "      <th></th>\n",
       "      <th>fraudulent</th>\n",
       "      <th>text</th>\n",
       "    </tr>\n",
       "  </thead>\n",
       "  <tbody>\n",
       "    <tr>\n",
       "      <th>17820</th>\n",
       "      <td>1</td>\n",
       "      <td>Office/Personal Assistant (15-20 hours per wee...</td>\n",
       "    </tr>\n",
       "    <tr>\n",
       "      <th>17821</th>\n",
       "      <td>1</td>\n",
       "      <td>Webcam ModelInternet Modeling is a premier adu...</td>\n",
       "    </tr>\n",
       "    <tr>\n",
       "      <th>17822</th>\n",
       "      <td>1</td>\n",
       "      <td>5 GuysAnalyze the excel books of the franchise...</td>\n",
       "    </tr>\n",
       "    <tr>\n",
       "      <th>17823</th>\n",
       "      <td>1</td>\n",
       "      <td>Sales Person RequiredCould this be the most re...</td>\n",
       "    </tr>\n",
       "    <tr>\n",
       "      <th>17824</th>\n",
       "      <td>1</td>\n",
       "      <td>Military Benefits CounselorAnthony Warren is a...</td>\n",
       "    </tr>\n",
       "    <tr>\n",
       "      <th>17825</th>\n",
       "      <td>1</td>\n",
       "      <td>ADMINISTRATIVE &amp; OFFICE ASSISTANTADMINISTRATIV...</td>\n",
       "    </tr>\n",
       "    <tr>\n",
       "      <th>17826</th>\n",
       "      <td>1</td>\n",
       "      <td>Customer Service/Accounting Clerk Cigna Inc is...</td>\n",
       "    </tr>\n",
       "    <tr>\n",
       "      <th>17827</th>\n",
       "      <td>1</td>\n",
       "      <td>Student Positions Part-Time and Full-Time.Stud...</td>\n",
       "    </tr>\n",
       "    <tr>\n",
       "      <th>17828</th>\n",
       "      <td>1</td>\n",
       "      <td>Sales AssociateLEARN TO EARN AN EXECUTIVE LEVE...</td>\n",
       "    </tr>\n",
       "    <tr>\n",
       "      <th>17829</th>\n",
       "      <td>1</td>\n",
       "      <td>Android DeveloperinFullMobile Sp. z o.o. is a ...</td>\n",
       "    </tr>\n",
       "    <tr>\n",
       "      <th>17830</th>\n",
       "      <td>1</td>\n",
       "      <td>Payroll Clerk JOB DESCRIPTIONWe are seeking a ...</td>\n",
       "    </tr>\n",
       "    <tr>\n",
       "      <th>17831</th>\n",
       "      <td>1</td>\n",
       "      <td>Furniture moverAnthony Warren is a Marketing a...</td>\n",
       "    </tr>\n",
       "    <tr>\n",
       "      <th>17832</th>\n",
       "      <td>0</td>\n",
       "      <td>Sales Controller / Assistant  Based in the hea...</td>\n",
       "    </tr>\n",
       "    <tr>\n",
       "      <th>17833</th>\n",
       "      <td>0</td>\n",
       "      <td>Web DesignerWe’re looking for a web designer w...</td>\n",
       "    </tr>\n",
       "    <tr>\n",
       "      <th>17834</th>\n",
       "      <td>0</td>\n",
       "      <td>Enterprise Account Executive USEngagor is a ve...</td>\n",
       "    </tr>\n",
       "    <tr>\n",
       "      <th>17835</th>\n",
       "      <td>0</td>\n",
       "      <td>Sr.Business Intelligence Technical ArchitectRo...</td>\n",
       "    </tr>\n",
       "    <tr>\n",
       "      <th>17836</th>\n",
       "      <td>0</td>\n",
       "      <td>Licensed Practical Nurse (LPN)- Private DutyPh...</td>\n",
       "    </tr>\n",
       "    <tr>\n",
       "      <th>17837</th>\n",
       "      <td>0</td>\n",
       "      <td>Senior Backend DevelopersGelato Group is a Saa...</td>\n",
       "    </tr>\n",
       "    <tr>\n",
       "      <th>17838</th>\n",
       "      <td>0</td>\n",
       "      <td>Senior Sales Executive - Simple RelevanceThe s...</td>\n",
       "    </tr>\n",
       "    <tr>\n",
       "      <th>17839</th>\n",
       "      <td>0</td>\n",
       "      <td>SAS Grid DeveloperJob Title: SAS Grid Develope...</td>\n",
       "    </tr>\n",
       "    <tr>\n",
       "      <th>17840</th>\n",
       "      <td>0</td>\n",
       "      <td>Birmingham Fragrance and Beauty Promotional St...</td>\n",
       "    </tr>\n",
       "    <tr>\n",
       "      <th>17841</th>\n",
       "      <td>0</td>\n",
       "      <td>Software Engineer - System Integration        ...</td>\n",
       "    </tr>\n",
       "    <tr>\n",
       "      <th>17842</th>\n",
       "      <td>0</td>\n",
       "      <td>Mobile Product DesignerWe are on a mission: Ma...</td>\n",
       "    </tr>\n",
       "    <tr>\n",
       "      <th>17843</th>\n",
       "      <td>0</td>\n",
       "      <td>Interior Designer Position AvailableOur client...</td>\n",
       "    </tr>\n",
       "    <tr>\n",
       "      <th>17844</th>\n",
       "      <td>0</td>\n",
       "      <td>Sr. Scm Web Development Technical LeadTitle: S...</td>\n",
       "    </tr>\n",
       "    <tr>\n",
       "      <th>17845</th>\n",
       "      <td>0</td>\n",
       "      <td>Junior Game DesignerMagmic is a leading develo...</td>\n",
       "    </tr>\n",
       "    <tr>\n",
       "      <th>17846</th>\n",
       "      <td>0</td>\n",
       "      <td>Project ManagerFrequency540 (FQ540) is a full ...</td>\n",
       "    </tr>\n",
       "    <tr>\n",
       "      <th>17847</th>\n",
       "      <td>0</td>\n",
       "      <td>User Support TechnicianOutstanding Member Serv...</td>\n",
       "    </tr>\n",
       "    <tr>\n",
       "      <th>17848</th>\n",
       "      <td>0</td>\n",
       "      <td>SEO CONTENT WRITERA Blogger or Journalist is r...</td>\n",
       "    </tr>\n",
       "    <tr>\n",
       "      <th>17849</th>\n",
       "      <td>0</td>\n",
       "      <td>Communication DesignerBalanced Labs exists to ...</td>\n",
       "    </tr>\n",
       "    <tr>\n",
       "      <th>17850</th>\n",
       "      <td>0</td>\n",
       "      <td>North West Level 2 and 3 DGV NVQ Assessors Und...</td>\n",
       "    </tr>\n",
       "    <tr>\n",
       "      <th>17851</th>\n",
       "      <td>0</td>\n",
       "      <td>Warehouse Operator / Material HandlerRed Star ...</td>\n",
       "    </tr>\n",
       "    <tr>\n",
       "      <th>17852</th>\n",
       "      <td>0</td>\n",
       "      <td>GWT ExpertGWT ExpertWe are experiencing a rapi...</td>\n",
       "    </tr>\n",
       "    <tr>\n",
       "      <th>17853</th>\n",
       "      <td>0</td>\n",
       "      <td>Call Center/Customer Service At Command we car...</td>\n",
       "    </tr>\n",
       "    <tr>\n",
       "      <th>17854</th>\n",
       "      <td>0</td>\n",
       "      <td>Talent Management Process ManagerWe Provide Fu...</td>\n",
       "    </tr>\n",
       "    <tr>\n",
       "      <th>17855</th>\n",
       "      <td>0</td>\n",
       "      <td>Android EngineerShyp is the easiest way to sen...</td>\n",
       "    </tr>\n",
       "    <tr>\n",
       "      <th>17856</th>\n",
       "      <td>0</td>\n",
       "      <td>Web Developer - Marketing Intercom (#URL_cb674...</td>\n",
       "    </tr>\n",
       "    <tr>\n",
       "      <th>17857</th>\n",
       "      <td>0</td>\n",
       "      <td>Chief Technology Officer (CTO) for a fast grow...</td>\n",
       "    </tr>\n",
       "    <tr>\n",
       "      <th>17858</th>\n",
       "      <td>0</td>\n",
       "      <td>Pharmaceutical Senior Project Manager Consulta...</td>\n",
       "    </tr>\n",
       "    <tr>\n",
       "      <th>17859</th>\n",
       "      <td>0</td>\n",
       "      <td>Immediate Requirement: iOS Developer for Qatar...</td>\n",
       "    </tr>\n",
       "    <tr>\n",
       "      <th>17860</th>\n",
       "      <td>0</td>\n",
       "      <td>Sr. SQL Server DBAPosition: Sr. SQL Server DBA...</td>\n",
       "    </tr>\n",
       "    <tr>\n",
       "      <th>17861</th>\n",
       "      <td>0</td>\n",
       "      <td>Junior Embedded EngineerTribe Wearables is a v...</td>\n",
       "    </tr>\n",
       "    <tr>\n",
       "      <th>17862</th>\n",
       "      <td>0</td>\n",
       "      <td>Clinical SupervisorCrossroads Treatment Center...</td>\n",
       "    </tr>\n",
       "    <tr>\n",
       "      <th>17863</th>\n",
       "      <td>0</td>\n",
       "      <td>Implementation Support SpecialistWe design, bu...</td>\n",
       "    </tr>\n",
       "    <tr>\n",
       "      <th>17864</th>\n",
       "      <td>0</td>\n",
       "      <td>Next Generation Depth SensingMERL's internship...</td>\n",
       "    </tr>\n",
       "    <tr>\n",
       "      <th>17865</th>\n",
       "      <td>0</td>\n",
       "      <td>Portfolio Development Associate - Paris &amp; rest...</td>\n",
       "    </tr>\n",
       "    <tr>\n",
       "      <th>17866</th>\n",
       "      <td>0</td>\n",
       "      <td>Post Production EditorStories by RELFrom 5,000...</td>\n",
       "    </tr>\n",
       "    <tr>\n",
       "      <th>17867</th>\n",
       "      <td>0</td>\n",
       "      <td>Admin Assistant We are seeking an administrato...</td>\n",
       "    </tr>\n",
       "    <tr>\n",
       "      <th>17868</th>\n",
       "      <td>0</td>\n",
       "      <td>CNC ProgrammerWe Provide Full Time Permanent P...</td>\n",
       "    </tr>\n",
       "    <tr>\n",
       "      <th>17869</th>\n",
       "      <td>0</td>\n",
       "      <td>Sr Technical Lead LIMSJob Title:  Sr Technical...</td>\n",
       "    </tr>\n",
       "    <tr>\n",
       "      <th>17870</th>\n",
       "      <td>0</td>\n",
       "      <td>Senior Financial Analyst (Retail) PROSULTING I...</td>\n",
       "    </tr>\n",
       "    <tr>\n",
       "      <th>17871</th>\n",
       "      <td>0</td>\n",
       "      <td>Water Truck DriverValor Services provides Work...</td>\n",
       "    </tr>\n",
       "    <tr>\n",
       "      <th>17872</th>\n",
       "      <td>0</td>\n",
       "      <td>Product ManagerFlite delivers ad innovation at...</td>\n",
       "    </tr>\n",
       "    <tr>\n",
       "      <th>17873</th>\n",
       "      <td>0</td>\n",
       "      <td>Recruiting CoordinatorRESPONSIBILITIES:Will fa...</td>\n",
       "    </tr>\n",
       "    <tr>\n",
       "      <th>17874</th>\n",
       "      <td>0</td>\n",
       "      <td>JavaScript DeveloperSr, JavaScript Developer E...</td>\n",
       "    </tr>\n",
       "    <tr>\n",
       "      <th>17875</th>\n",
       "      <td>0</td>\n",
       "      <td>Account Director - Distribution Vend is lookin...</td>\n",
       "    </tr>\n",
       "    <tr>\n",
       "      <th>17876</th>\n",
       "      <td>0</td>\n",
       "      <td>Payroll AccountantWebLinc is the e-commerce pl...</td>\n",
       "    </tr>\n",
       "    <tr>\n",
       "      <th>17877</th>\n",
       "      <td>0</td>\n",
       "      <td>Project Cost Control Staff Engineer - Cost Con...</td>\n",
       "    </tr>\n",
       "    <tr>\n",
       "      <th>17878</th>\n",
       "      <td>0</td>\n",
       "      <td>Graphic DesignerNemsia Studios is looking for ...</td>\n",
       "    </tr>\n",
       "    <tr>\n",
       "      <th>17879</th>\n",
       "      <td>0</td>\n",
       "      <td>Web Application DevelopersVend is looking for ...</td>\n",
       "    </tr>\n",
       "  </tbody>\n",
       "</table>\n",
       "</div>"
      ],
      "text/plain": [
       "       fraudulent                                               text\n",
       "17820           1  Office/Personal Assistant (15-20 hours per wee...\n",
       "17821           1  Webcam ModelInternet Modeling is a premier adu...\n",
       "17822           1  5 GuysAnalyze the excel books of the franchise...\n",
       "17823           1  Sales Person RequiredCould this be the most re...\n",
       "17824           1  Military Benefits CounselorAnthony Warren is a...\n",
       "17825           1  ADMINISTRATIVE & OFFICE ASSISTANTADMINISTRATIV...\n",
       "17826           1  Customer Service/Accounting Clerk Cigna Inc is...\n",
       "17827           1  Student Positions Part-Time and Full-Time.Stud...\n",
       "17828           1  Sales AssociateLEARN TO EARN AN EXECUTIVE LEVE...\n",
       "17829           1  Android DeveloperinFullMobile Sp. z o.o. is a ...\n",
       "17830           1  Payroll Clerk JOB DESCRIPTIONWe are seeking a ...\n",
       "17831           1  Furniture moverAnthony Warren is a Marketing a...\n",
       "17832           0  Sales Controller / Assistant  Based in the hea...\n",
       "17833           0  Web DesignerWe’re looking for a web designer w...\n",
       "17834           0  Enterprise Account Executive USEngagor is a ve...\n",
       "17835           0  Sr.Business Intelligence Technical ArchitectRo...\n",
       "17836           0  Licensed Practical Nurse (LPN)- Private DutyPh...\n",
       "17837           0  Senior Backend DevelopersGelato Group is a Saa...\n",
       "17838           0  Senior Sales Executive - Simple RelevanceThe s...\n",
       "17839           0  SAS Grid DeveloperJob Title: SAS Grid Develope...\n",
       "17840           0  Birmingham Fragrance and Beauty Promotional St...\n",
       "17841           0  Software Engineer - System Integration        ...\n",
       "17842           0  Mobile Product DesignerWe are on a mission: Ma...\n",
       "17843           0  Interior Designer Position AvailableOur client...\n",
       "17844           0  Sr. Scm Web Development Technical LeadTitle: S...\n",
       "17845           0  Junior Game DesignerMagmic is a leading develo...\n",
       "17846           0  Project ManagerFrequency540 (FQ540) is a full ...\n",
       "17847           0  User Support TechnicianOutstanding Member Serv...\n",
       "17848           0  SEO CONTENT WRITERA Blogger or Journalist is r...\n",
       "17849           0  Communication DesignerBalanced Labs exists to ...\n",
       "17850           0  North West Level 2 and 3 DGV NVQ Assessors Und...\n",
       "17851           0  Warehouse Operator / Material HandlerRed Star ...\n",
       "17852           0  GWT ExpertGWT ExpertWe are experiencing a rapi...\n",
       "17853           0  Call Center/Customer Service At Command we car...\n",
       "17854           0  Talent Management Process ManagerWe Provide Fu...\n",
       "17855           0  Android EngineerShyp is the easiest way to sen...\n",
       "17856           0  Web Developer - Marketing Intercom (#URL_cb674...\n",
       "17857           0  Chief Technology Officer (CTO) for a fast grow...\n",
       "17858           0  Pharmaceutical Senior Project Manager Consulta...\n",
       "17859           0  Immediate Requirement: iOS Developer for Qatar...\n",
       "17860           0  Sr. SQL Server DBAPosition: Sr. SQL Server DBA...\n",
       "17861           0  Junior Embedded EngineerTribe Wearables is a v...\n",
       "17862           0  Clinical SupervisorCrossroads Treatment Center...\n",
       "17863           0  Implementation Support SpecialistWe design, bu...\n",
       "17864           0  Next Generation Depth SensingMERL's internship...\n",
       "17865           0  Portfolio Development Associate - Paris & rest...\n",
       "17866           0  Post Production EditorStories by RELFrom 5,000...\n",
       "17867           0  Admin Assistant We are seeking an administrato...\n",
       "17868           0  CNC ProgrammerWe Provide Full Time Permanent P...\n",
       "17869           0  Sr Technical Lead LIMSJob Title:  Sr Technical...\n",
       "17870           0  Senior Financial Analyst (Retail) PROSULTING I...\n",
       "17871           0  Water Truck DriverValor Services provides Work...\n",
       "17872           0  Product ManagerFlite delivers ad innovation at...\n",
       "17873           0  Recruiting CoordinatorRESPONSIBILITIES:Will fa...\n",
       "17874           0  JavaScript DeveloperSr, JavaScript Developer E...\n",
       "17875           0  Account Director - Distribution Vend is lookin...\n",
       "17876           0  Payroll AccountantWebLinc is the e-commerce pl...\n",
       "17877           0  Project Cost Control Staff Engineer - Cost Con...\n",
       "17878           0  Graphic DesignerNemsia Studios is looking for ...\n",
       "17879           0  Web Application DevelopersVend is looking for ..."
      ]
     },
     "execution_count": 39,
     "metadata": {},
     "output_type": "execute_result"
    }
   ],
   "source": [
    "df.tail(60)"
   ]
  },
  {
   "cell_type": "code",
   "execution_count": 40,
   "id": "ff23833e",
   "metadata": {},
   "outputs": [],
   "source": [
    "# Importing the libraries of NLP\n",
    "# Data Cleaning and preprocessing\n",
    "import re\n",
    "import nltk\n",
    "\n",
    "from nltk.corpus import stopwords\n",
    "from nltk.stem import WordNetLemmatizer"
   ]
  },
  {
   "cell_type": "code",
   "execution_count": 154,
   "id": "260c5a3c",
   "metadata": {},
   "outputs": [
    {
     "data": {
      "text/plain": [
       "'Office/Personal Assistant (15-20 hours per week)Currently seeking an Office Assistant for our home office on a casual part time basis. This job involves personal and office assistance. Ideally, we are seeking someone who has previous experience in an administrative and/or assistant role.\\xa0Primary Responsibilities: (but not limited to) • Dealing with incoming email and post• Organizing and ensuring office area is stocked of supplies• Maintaining office filing system and personal records • Running errands and performing miscellaneous job-related duties as assigned• Assisting with various research projects• Some digital design work/editing will be required• Assisting with various projects and event planning• Incoming and outgoing phone callsQualifications and Abilities:• Ability to work independently• Strong attention to detail• Self-motivated, energetic and highly organized• Ability to multitask, prioritize and handle different tasks• Intermediate experience in Word, Excel, MAC OS is requiredThis is the chance to take ownership of the role, grow within a nationally recognised brand and continue to develop your administration and data analyst skills. You will be professionally presented and have a warm and personable attitude. You will be able to work autonomously as well as occasionally in a team.Training: We provide Probationary Period with support. So you can get all necessary experience in process.If you would like to hear further details please send us your resume with your full name and email.'"
      ]
     },
     "execution_count": 154,
     "metadata": {},
     "output_type": "execute_result"
    }
   ],
   "source": [
    "df['text'][17820]"
   ]
  },
  {
   "cell_type": "code",
   "execution_count": 42,
   "id": "64f53bb9",
   "metadata": {},
   "outputs": [],
   "source": [
    "wordnet=WordNetLemmatizer()\n",
    "corpus=[]"
   ]
  },
  {
   "cell_type": "code",
   "execution_count": 43,
   "id": "2b97aa8c",
   "metadata": {},
   "outputs": [],
   "source": [
    "fraudulent_job_text=df[df.fraudulent==1].text\n",
    "real_job_text=df[df.fraudulent==0].text"
   ]
  },
  {
   "cell_type": "code",
   "execution_count": 44,
   "id": "92b2cad6",
   "metadata": {},
   "outputs": [],
   "source": [
    "import spacy"
   ]
  },
  {
   "cell_type": "code",
   "execution_count": 45,
   "id": "adca29e6",
   "metadata": {},
   "outputs": [],
   "source": [
    "from nltk.corpus import stopwords\n",
    "from wordcloud import WordCloud"
   ]
  },
  {
   "cell_type": "markdown",
   "id": "fe038986",
   "metadata": {},
   "source": [
    "## Let's see the important keywords in the fraudulent_job_text using wordcloud"
   ]
  },
  {
   "cell_type": "markdown",
   "id": "496d830c",
   "metadata": {},
   "source": [
    "## Let's see the important keywords in the real_job_text using wordcloud"
   ]
  },
  {
   "cell_type": "code",
   "execution_count": 49,
   "id": "c2868be1",
   "metadata": {},
   "outputs": [],
   "source": [
    "from sklearn.feature_extraction.text import TfidfVectorizer"
   ]
  },
  {
   "cell_type": "code",
   "execution_count": 50,
   "id": "68adb042",
   "metadata": {},
   "outputs": [],
   "source": [
    "tf=TfidfVectorizer(stop_words='english',max_df=0.7)"
   ]
  },
  {
   "cell_type": "code",
   "execution_count": 58,
   "id": "f11e6add",
   "metadata": {},
   "outputs": [],
   "source": [
    "X=df['text']"
   ]
  },
  {
   "cell_type": "code",
   "execution_count": 59,
   "id": "df187967",
   "metadata": {},
   "outputs": [
    {
     "data": {
      "text/plain": [
       "0        Marketing InternWe're Food52, and we've create...\n",
       "1        Customer Service - Cloud Video Production90 Se...\n",
       "2        Commissioning Machinery Assistant (CMA)Valor S...\n",
       "3        Account Executive - Washington DCOur passion f...\n",
       "4        Bill Review ManagerSpotSource Solutions LLC is...\n",
       "                               ...                        \n",
       "17875    Account Director - Distribution Vend is lookin...\n",
       "17876    Payroll AccountantWebLinc is the e-commerce pl...\n",
       "17877    Project Cost Control Staff Engineer - Cost Con...\n",
       "17878    Graphic DesignerNemsia Studios is looking for ...\n",
       "17879    Web Application DevelopersVend is looking for ...\n",
       "Name: text, Length: 17880, dtype: object"
      ]
     },
     "execution_count": 59,
     "metadata": {},
     "output_type": "execute_result"
    }
   ],
   "source": [
    "x"
   ]
  },
  {
   "cell_type": "code",
   "execution_count": 60,
   "id": "55419e08",
   "metadata": {},
   "outputs": [],
   "source": [
    "y=df['fraudulent']"
   ]
  },
  {
   "cell_type": "code",
   "execution_count": 61,
   "id": "b109256f",
   "metadata": {},
   "outputs": [],
   "source": [
    "from sklearn.model_selection import train_test_split"
   ]
  },
  {
   "cell_type": "code",
   "execution_count": 62,
   "id": "87db8c76",
   "metadata": {},
   "outputs": [],
   "source": [
    "X_train,X_test,y_train,y_test=train_test_split(X,y,test_size=0.3,random_state=0)"
   ]
  },
  {
   "cell_type": "code",
   "execution_count": 63,
   "id": "4bd79399",
   "metadata": {},
   "outputs": [
    {
     "name": "stdout",
     "output_type": "stream",
     "text": [
      "(12516,) (12516,) (5364,) (5364,)\n"
     ]
    }
   ],
   "source": [
    "print(X_train.shape,y_train.shape,X_test.shape,y_test.shape)"
   ]
  },
  {
   "cell_type": "code",
   "execution_count": 64,
   "id": "be9af8b6",
   "metadata": {},
   "outputs": [],
   "source": [
    "X_train=tf.fit_transform(X_train)"
   ]
  },
  {
   "cell_type": "code",
   "execution_count": 65,
   "id": "0c33be3a",
   "metadata": {},
   "outputs": [],
   "source": [
    "X_test=tf.transform(X_test)"
   ]
  },
  {
   "cell_type": "code",
   "execution_count": 67,
   "id": "6374e878",
   "metadata": {},
   "outputs": [
    {
     "name": "stdout",
     "output_type": "stream",
     "text": [
      "(12516, 93537) (5364, 93537)\n"
     ]
    }
   ],
   "source": [
    "print(X_train.shape,X_test.shape)"
   ]
  },
  {
   "cell_type": "markdown",
   "id": "5a5fde71",
   "metadata": {},
   "source": [
    "###  Training the Random Forest "
   ]
  },
  {
   "cell_type": "code",
   "execution_count": 68,
   "id": "11b0c013",
   "metadata": {},
   "outputs": [],
   "source": [
    "from sklearn.ensemble import RandomForestClassifier"
   ]
  },
  {
   "cell_type": "code",
   "execution_count": 69,
   "id": "47038b65",
   "metadata": {},
   "outputs": [],
   "source": [
    "rf=RandomForestClassifier()"
   ]
  },
  {
   "cell_type": "code",
   "execution_count": 70,
   "id": "1bfad66b",
   "metadata": {},
   "outputs": [
    {
     "data": {
      "text/plain": [
       "RandomForestClassifier()"
      ]
     },
     "execution_count": 70,
     "metadata": {},
     "output_type": "execute_result"
    }
   ],
   "source": [
    "rf.fit(X_train,y_train)"
   ]
  },
  {
   "cell_type": "code",
   "execution_count": 71,
   "id": "bf4a51b1",
   "metadata": {},
   "outputs": [
    {
     "data": {
      "text/plain": [
       "1.0"
      ]
     },
     "execution_count": 71,
     "metadata": {},
     "output_type": "execute_result"
    }
   ],
   "source": [
    "rf.score(X_train,y_train)"
   ]
  },
  {
   "cell_type": "code",
   "execution_count": 72,
   "id": "cb60ef18",
   "metadata": {},
   "outputs": [
    {
     "data": {
      "text/plain": [
       "0.9850857568978374"
      ]
     },
     "execution_count": 72,
     "metadata": {},
     "output_type": "execute_result"
    }
   ],
   "source": [
    "rf.score(X_test,y_test)"
   ]
  },
  {
   "cell_type": "markdown",
   "id": "8c4b12bd",
   "metadata": {},
   "source": [
    "### Making predictions with Random Forest"
   ]
  },
  {
   "cell_type": "code",
   "execution_count": 73,
   "id": "11990e42",
   "metadata": {},
   "outputs": [],
   "source": [
    "y_pred=rf.predict(X_test)"
   ]
  },
  {
   "cell_type": "code",
   "execution_count": 74,
   "id": "0a3c2ad8",
   "metadata": {},
   "outputs": [],
   "source": [
    "from sklearn.metrics import classification_report,confusion_matrix,accuracy_score"
   ]
  },
  {
   "cell_type": "code",
   "execution_count": 75,
   "id": "b4bc50a6",
   "metadata": {},
   "outputs": [
    {
     "name": "stdout",
     "output_type": "stream",
     "text": [
      "0.9850857568978374\n"
     ]
    }
   ],
   "source": [
    "print(accuracy_score(y_pred,y_test))"
   ]
  },
  {
   "cell_type": "code",
   "execution_count": null,
   "id": "1cdf4ae9",
   "metadata": {},
   "outputs": [
    {
     "name": "stdout",
     "output_type": "stream",
     "text": [
      "              precision    recall  f1-score   support\n",
      "\n",
      "           0       0.99      1.00      0.99      5137\n",
      "           1       0.97      0.67      0.79       227\n",
      "\n",
      "    accuracy                           0.99      5364\n",
      "   macro avg       0.98      0.83      0.89      5364\n",
      "weighted avg       0.98      0.99      0.98      5364\n",
      "\n"
     ]
    }
   ],
   "source": [
    "print(classification_report(y_test,y_pred))"
   ]
  },
  {
   "cell_type": "code",
   "execution_count": 77,
   "id": "9c6c1997",
   "metadata": {},
   "outputs": [
    {
     "name": "stdout",
     "output_type": "stream",
     "text": [
      "[[5133    4]\n",
      " [  76  151]]\n"
     ]
    }
   ],
   "source": [
    "print(confusion_matrix(y_test,y_pred))"
   ]
  },
  {
   "cell_type": "markdown",
   "id": "ee5dbdbe",
   "metadata": {},
   "source": [
    "### Training the Logistic Regression"
   ]
  },
  {
   "cell_type": "code",
   "execution_count": 78,
   "id": "3149f1a2",
   "metadata": {},
   "outputs": [],
   "source": [
    "from sklearn.linear_model import LogisticRegression"
   ]
  },
  {
   "cell_type": "code",
   "execution_count": 79,
   "id": "0fcc4601",
   "metadata": {},
   "outputs": [],
   "source": [
    "lr=LogisticRegression()"
   ]
  },
  {
   "cell_type": "code",
   "execution_count": 80,
   "id": "061c74bd",
   "metadata": {},
   "outputs": [
    {
     "data": {
      "text/plain": [
       "LogisticRegression()"
      ]
     },
     "execution_count": 80,
     "metadata": {},
     "output_type": "execute_result"
    }
   ],
   "source": [
    "lr.fit(X_train,y_train)"
   ]
  },
  {
   "cell_type": "code",
   "execution_count": 81,
   "id": "01336c2a",
   "metadata": {},
   "outputs": [
    {
     "data": {
      "text/plain": [
       "0.9717162032598274"
      ]
     },
     "execution_count": 81,
     "metadata": {},
     "output_type": "execute_result"
    }
   ],
   "source": [
    "lr.score(X_train,y_train)"
   ]
  },
  {
   "cell_type": "code",
   "execution_count": null,
   "id": "39324eb5",
   "metadata": {},
   "outputs": [
    {
     "data": {
      "text/plain": [
       "0.9752050708426547"
      ]
     },
     "execution_count": 82,
     "metadata": {},
     "output_type": "execute_result"
    }
   ],
   "source": [
    "lr.score(X_test,y_test)"
   ]
  },
  {
   "cell_type": "markdown",
   "id": "2de0399a",
   "metadata": {},
   "source": [
    "### Making Prediction with Logistic Regression"
   ]
  },
  {
   "cell_type": "code",
   "execution_count": 83,
   "id": "05545940",
   "metadata": {},
   "outputs": [
    {
     "name": "stdout",
     "output_type": "stream",
     "text": [
      "0.9752050708426547\n"
     ]
    }
   ],
   "source": [
    "y_pred1=lr.predict(X_test)\n",
    "print(accuracy_score(y_test,y_pred1))"
   ]
  },
  {
   "cell_type": "code",
   "execution_count": 84,
   "id": "4d7131f5",
   "metadata": {},
   "outputs": [
    {
     "name": "stdout",
     "output_type": "stream",
     "text": [
      "              precision    recall  f1-score   support\n",
      "\n",
      "           0       0.98      1.00      0.99      5137\n",
      "           1       0.96      0.43      0.60       227\n",
      "\n",
      "    accuracy                           0.98      5364\n",
      "   macro avg       0.97      0.72      0.79      5364\n",
      "weighted avg       0.97      0.98      0.97      5364\n",
      "\n"
     ]
    }
   ],
   "source": [
    "print(classification_report(y_test,y_pred1))"
   ]
  },
  {
   "cell_type": "code",
   "execution_count": 85,
   "id": "ac93f970",
   "metadata": {},
   "outputs": [
    {
     "name": "stdout",
     "output_type": "stream",
     "text": [
      "[[5133    4]\n",
      " [ 129   98]]\n"
     ]
    }
   ],
   "source": [
    "print(confusion_matrix(y_test,y_pred1))"
   ]
  },
  {
   "cell_type": "markdown",
   "id": "129d8b06",
   "metadata": {},
   "source": [
    "### Training the Decision Tree"
   ]
  },
  {
   "cell_type": "code",
   "execution_count": 86,
   "id": "99fb1fd0",
   "metadata": {},
   "outputs": [],
   "source": [
    "from sklearn.tree import DecisionTreeClassifier"
   ]
  },
  {
   "cell_type": "code",
   "execution_count": 87,
   "id": "0838568c",
   "metadata": {},
   "outputs": [],
   "source": [
    "dt=DecisionTreeClassifier()"
   ]
  },
  {
   "cell_type": "code",
   "execution_count": 88,
   "id": "4f775e39",
   "metadata": {},
   "outputs": [
    {
     "data": {
      "text/plain": [
       "DecisionTreeClassifier()"
      ]
     },
     "execution_count": 88,
     "metadata": {},
     "output_type": "execute_result"
    }
   ],
   "source": [
    "dt.fit(X_train,y_train)"
   ]
  },
  {
   "cell_type": "code",
   "execution_count": 89,
   "id": "adae967b",
   "metadata": {},
   "outputs": [
    {
     "data": {
      "text/plain": [
       "1.0"
      ]
     },
     "execution_count": 89,
     "metadata": {},
     "output_type": "execute_result"
    }
   ],
   "source": [
    "dt.score(X_train,y_train)"
   ]
  },
  {
   "cell_type": "code",
   "execution_count": 90,
   "id": "6399314c",
   "metadata": {},
   "outputs": [
    {
     "data": {
      "text/plain": [
       "0.9727815063385533"
      ]
     },
     "execution_count": 90,
     "metadata": {},
     "output_type": "execute_result"
    }
   ],
   "source": [
    "dt.score(X_test,y_test)"
   ]
  },
  {
   "cell_type": "markdown",
   "id": "c46a5ec7",
   "metadata": {},
   "source": [
    "### Making predictions with Decision Tree"
   ]
  },
  {
   "cell_type": "code",
   "execution_count": 91,
   "id": "f39e4dcb",
   "metadata": {},
   "outputs": [
    {
     "name": "stdout",
     "output_type": "stream",
     "text": [
      "0.9727815063385533\n"
     ]
    }
   ],
   "source": [
    "y_pred2=dt.predict(X_test)\n",
    "print(accuracy_score(y_pred2,y_test))"
   ]
  },
  {
   "cell_type": "code",
   "execution_count": 92,
   "id": "04bbb49d",
   "metadata": {},
   "outputs": [
    {
     "name": "stdout",
     "output_type": "stream",
     "text": [
      "              precision    recall  f1-score   support\n",
      "\n",
      "           0       0.99      0.98      0.99      5137\n",
      "           1       0.65      0.76      0.70       227\n",
      "\n",
      "    accuracy                           0.97      5364\n",
      "   macro avg       0.82      0.87      0.84      5364\n",
      "weighted avg       0.98      0.97      0.97      5364\n",
      "\n"
     ]
    }
   ],
   "source": [
    "print(classification_report(y_test,y_pred2))"
   ]
  },
  {
   "cell_type": "code",
   "execution_count": 93,
   "id": "d7a27517",
   "metadata": {},
   "outputs": [
    {
     "name": "stdout",
     "output_type": "stream",
     "text": [
      "[[5045   92]\n",
      " [  54  173]]\n"
     ]
    }
   ],
   "source": [
    "print(confusion_matrix(y_test,y_pred2))"
   ]
  },
  {
   "cell_type": "markdown",
   "id": "14e941b3",
   "metadata": {},
   "source": [
    "### Training the Support Vector Machine"
   ]
  },
  {
   "cell_type": "code",
   "execution_count": 94,
   "id": "540ad365",
   "metadata": {},
   "outputs": [],
   "source": [
    "from sklearn import svm"
   ]
  },
  {
   "cell_type": "code",
   "execution_count": 95,
   "id": "657b586a",
   "metadata": {},
   "outputs": [],
   "source": [
    "sv=svm.SVC()"
   ]
  },
  {
   "cell_type": "code",
   "execution_count": 96,
   "id": "4aeeb603",
   "metadata": {},
   "outputs": [
    {
     "data": {
      "text/plain": [
       "SVC()"
      ]
     },
     "execution_count": 96,
     "metadata": {},
     "output_type": "execute_result"
    }
   ],
   "source": [
    "sv.fit(X_train,y_train)"
   ]
  },
  {
   "cell_type": "code",
   "execution_count": 97,
   "id": "c44bced8",
   "metadata": {},
   "outputs": [
    {
     "data": {
      "text/plain": [
       "0.9956855225311602"
      ]
     },
     "execution_count": 97,
     "metadata": {},
     "output_type": "execute_result"
    }
   ],
   "source": [
    "sv.score(X_train,y_train)"
   ]
  },
  {
   "cell_type": "code",
   "execution_count": 116,
   "id": "f541af31",
   "metadata": {},
   "outputs": [
    {
     "data": {
      "text/plain": [
       "0.9845264727815063"
      ]
     },
     "execution_count": 116,
     "metadata": {},
     "output_type": "execute_result"
    }
   ],
   "source": [
    "sv.score(X_test,y_test)"
   ]
  },
  {
   "cell_type": "markdown",
   "id": "41c6aec2",
   "metadata": {},
   "source": [
    "### Making Predictions with Support Vector Machine"
   ]
  },
  {
   "cell_type": "code",
   "execution_count": 99,
   "id": "4384bb1c",
   "metadata": {},
   "outputs": [
    {
     "name": "stdout",
     "output_type": "stream",
     "text": [
      "0.9845264727815063\n"
     ]
    }
   ],
   "source": [
    "y_pred3=sv.predict(X_test)\n",
    "print(accuracy_score(y_pred3,y_test))"
   ]
  },
  {
   "cell_type": "code",
   "execution_count": 100,
   "id": "1a4f4d80",
   "metadata": {},
   "outputs": [
    {
     "name": "stdout",
     "output_type": "stream",
     "text": [
      "              precision    recall  f1-score   support\n",
      "\n",
      "           0       0.98      1.00      0.99      5137\n",
      "           1       0.97      0.65      0.78       227\n",
      "\n",
      "    accuracy                           0.98      5364\n",
      "   macro avg       0.98      0.83      0.89      5364\n",
      "weighted avg       0.98      0.98      0.98      5364\n",
      "\n"
     ]
    }
   ],
   "source": [
    "print(classification_report(y_test,y_pred3))"
   ]
  },
  {
   "cell_type": "code",
   "execution_count": 101,
   "id": "57d71b5b",
   "metadata": {},
   "outputs": [
    {
     "name": "stdout",
     "output_type": "stream",
     "text": [
      "[[5133    4]\n",
      " [  79  148]]\n"
     ]
    }
   ],
   "source": [
    "print(confusion_matrix(y_test,y_pred3))"
   ]
  },
  {
   "cell_type": "markdown",
   "id": "e452154d",
   "metadata": {},
   "source": [
    "### Training the K-Nearest Neighbors"
   ]
  },
  {
   "cell_type": "code",
   "execution_count": 102,
   "id": "279c2e50",
   "metadata": {},
   "outputs": [
    {
     "data": {
      "text/plain": [
       "KNeighborsClassifier()"
      ]
     },
     "execution_count": 102,
     "metadata": {},
     "output_type": "execute_result"
    }
   ],
   "source": [
    "from sklearn.neighbors import KNeighborsClassifier\n",
    "knn = KNeighborsClassifier(n_neighbors = 5,p = 2)\n",
    "knn.fit(X_train, y_train)"
   ]
  },
  {
   "cell_type": "code",
   "execution_count": 103,
   "id": "e7532833",
   "metadata": {},
   "outputs": [
    {
     "data": {
      "text/plain": [
       "0.9856184084372004"
      ]
     },
     "execution_count": 103,
     "metadata": {},
     "output_type": "execute_result"
    }
   ],
   "source": [
    "knn.score(X_train,y_train)"
   ]
  },
  {
   "cell_type": "code",
   "execution_count": 104,
   "id": "8ccdc81c",
   "metadata": {},
   "outputs": [
    {
     "data": {
      "text/plain": [
       "0.9819164802386279"
      ]
     },
     "execution_count": 104,
     "metadata": {},
     "output_type": "execute_result"
    }
   ],
   "source": [
    "knn.score(X_test,y_test)"
   ]
  },
  {
   "cell_type": "markdown",
   "id": "dba4c6a9",
   "metadata": {},
   "source": [
    "### Making Predictions with K-Nearest Neighbors"
   ]
  },
  {
   "cell_type": "code",
   "execution_count": 117,
   "id": "538c61e3",
   "metadata": {},
   "outputs": [
    {
     "name": "stdout",
     "output_type": "stream",
     "text": [
      "0.9819164802386279\n"
     ]
    }
   ],
   "source": [
    "y_pred4=knn.predict(X_test)\n",
    "print(accuracy_score(y_pred4,y_test))"
   ]
  },
  {
   "cell_type": "code",
   "execution_count": 118,
   "id": "608f765a",
   "metadata": {},
   "outputs": [
    {
     "name": "stdout",
     "output_type": "stream",
     "text": [
      "              precision    recall  f1-score   support\n",
      "\n",
      "           0       0.99      0.99      0.99      5137\n",
      "           1       0.82      0.74      0.77       227\n",
      "\n",
      "    accuracy                           0.98      5364\n",
      "   macro avg       0.90      0.86      0.88      5364\n",
      "weighted avg       0.98      0.98      0.98      5364\n",
      "\n"
     ]
    }
   ],
   "source": [
    "print(classification_report(y_test,y_pred4))"
   ]
  },
  {
   "cell_type": "code",
   "execution_count": 119,
   "id": "903cb0a8",
   "metadata": {},
   "outputs": [
    {
     "name": "stdout",
     "output_type": "stream",
     "text": [
      "[[5100   37]\n",
      " [  60  167]]\n"
     ]
    }
   ],
   "source": [
    "print(confusion_matrix(y_test,y_pred4))"
   ]
  },
  {
   "cell_type": "markdown",
   "id": "d4092b7b",
   "metadata": {},
   "source": [
    "## Save the model in pickle file"
   ]
  },
  {
   "cell_type": "code",
   "execution_count": 157,
   "id": "eddb6811",
   "metadata": {},
   "outputs": [
    {
     "data": {
      "text/plain": [
       "['fraud_pickle.pkl']"
      ]
     },
     "execution_count": 157,
     "metadata": {},
     "output_type": "execute_result"
    }
   ],
   "source": [
    "import joblib\n",
    "joblib.dump(rf,'fraud_pickle.pkl')"
   ]
  },
  {
   "cell_type": "code",
   "execution_count": 158,
   "id": "ad463e38",
   "metadata": {},
   "outputs": [],
   "source": [
    "clf=joblib.load('fraud_pickle.pkl')"
   ]
  },
  {
   "cell_type": "code",
   "execution_count": 159,
   "id": "01989ddd",
   "metadata": {},
   "outputs": [],
   "source": [
    "y_prediction=clf.predict(X_test)"
   ]
  },
  {
   "cell_type": "code",
   "execution_count": 160,
   "id": "268e597b",
   "metadata": {},
   "outputs": [],
   "source": [
    "def check(text):\n",
    "    input_data = [text]\n",
    "    vectorized_input_data = tf.transform(input_data)\n",
    "    prediction = clf.predict(vectorized_input_data)\n",
    "    return prediction"
   ]
  },
  {
   "cell_type": "code",
   "execution_count": 161,
   "id": "d5d1a4a9",
   "metadata": {},
   "outputs": [
    {
     "name": "stdout",
     "output_type": "stream",
     "text": [
      "[1]\n"
     ]
    }
   ],
   "source": [
    "print(check('Android DeveloperinFullMobile Sp. z o.o. is a mobile software development house, specializing in the client side of mobile software for clients all around the globe. We are a young company, where you can make the difference, the company structure is horizontal so everyone has a say. We are looking for the best of the best JAVA developers, some out of the box thinking, the courage to get involved with the bleeding edge technologies and projects.• A proven track record in Android / JAVA projects (C, C++, Obj-C is a plus)• Participation in specification and planning of new product modules and features,• A good knowledge of the English language (both written and spoken),• Out-of-the-box thinking and creativity (we care little about the at lines of code you write, but the number of problems you solve),• Following of high quality programming standards,• Keep a track of the industry developments/standards and take the initiative to incorporate these into the company technologies• Team-play (though you will more often than not be working in very small groups),What would make you the perfect candidate:• Hands on experience in development for any Mobile OS platform or technology - iOS, Android, Symbian, WebOS, MeeGo, Maemo, Windows Phone, BlackBerry OS, Series40 or related technologies (e.g. Qt)• Scrum (or other Agile) development method experience,\\xa0• Passionate about mobile technology,\\xa0• Attention to detailattractive salary (adequate to the candidate skillset) and benefit systemsposition in a company dynamically scaling in the area of new technology working on multiple international markets'))"
   ]
  },
  {
   "cell_type": "code",
   "execution_count": 162,
   "id": "89db73c3",
   "metadata": {},
   "outputs": [
    {
     "name": "stdout",
     "output_type": "stream",
     "text": [
      "[0]\n"
     ]
    }
   ],
   "source": [
    "print(check('Sales Controller / Assistant  Based in the heart of the City, this exceptional opportunity as Sales Controller / Assistant in a fast-growing tech start-up is a challenging and varied position requiring a highly motivated professional, ideally with a degree, but certainly with an interest in pursuing a career in start-ups / technological businesses.The CompanyRecognised by Wired Magazine as one of Europe’s hottest tech start-ups, Appear Here is the leading marketplace to rent short-term space. Hailed a \"digital game changer for the high street\" by The Guardian, Appear Here is the simplest way to list and rent flexible retail space online. Our mission is to build a global network of spaces, so people can rent space in cities across the world and take their ideas to destinations near and far.Since launching in 2013, Appear Here lists over 500 spaces nationwide, and has over 5000 brands and retailers using the site. A diverse mix of big names and upcoming brands have all found space for their ideas with Appear Here ranging from Microsoft, Diageo, Google, &amp; the BBC to Serge de Nimes and Stylist Magazine.\\xa0The RoleWe’re growing fast, and to support this we’re looking for a Sales Controller for our Commercial Team. This is a fantastic, unique opportunity to join a great team in a hands-on role playing a pivotal role in our on-going growth and success.You will have previously been employed in a sales focussed organisation, with a track record in analysis and forecasting. You should have previous experience with P&amp;L responsibilities as well as cash management. You will be a self-motivated, creative and driven by numbers.\\xa0Key areas of responsibility within this Sales Controller role include: Audit the sales teams performance on regular basisResponsible for keeping an up-to-date CRM systemResponsible for making sure the company can predict and follow up on selling\\xa0Being proactive in coming up with possible improvements for sellingDrive focus areas for the sales teamAssist the management team with analytics and decisionsAssist the sales team with putting in data and keeping it up to dateThe link between sales team and financeSkills and Qualifications\\xa0Previous experience in salesforce, Microsoft Office and other CRM systemsGood in general analytics and understanding figuresGood in communication - both written and spoken+3 years experience in a similar roleExcellent Salaries\\xa0Company Benefit PackagesInternational Development\\xa0Company Progression &amp; Support schemes'))"
   ]
  },
  {
   "cell_type": "code",
   "execution_count": 163,
   "id": "3329480c",
   "metadata": {},
   "outputs": [
    {
     "name": "stdout",
     "output_type": "stream",
     "text": [
      "[1]\n"
     ]
    }
   ],
   "source": [
    "print(check('Office/Personal Assistant (15-20 hours per week)Currently seeking an Office Assistant for our home office on a casual part time basis. This job involves personal and office assistance. Ideally, we are seeking someone who has previous experience in an administrative and/or assistant role.\\xa0Primary Responsibilities: (but not limited to) • Dealing with incoming email and post• Organizing and ensuring office area is stocked of supplies• Maintaining office filing system and personal records • Running errands and performing miscellaneous job-related duties as assigned• Assisting with various research projects• Some digital design work/editing will be required• Assisting with various projects and event planning• Incoming and outgoing phone callsQualifications and Abilities:• Ability to work independently• Strong attention to detail• Self-motivated, energetic and highly organized• Ability to multitask, prioritize and handle different tasks• Intermediate experience in Word, Excel, MAC OS is requiredThis is the chance to take ownership of the role, grow within a nationally recognised brand and continue to develop your administration and data analyst skills. You will be professionally presented and have a warm and personable attitude. You will be able to work autonomously as well as occasionally in a team.Training: We provide Probationary Period with support. So you can get all necessary experience in process.If you would like to hear further details please send us your resume with your full name and email'))"
   ]
  },
  {
   "cell_type": "code",
   "execution_count": 164,
   "id": "d56e1778",
   "metadata": {},
   "outputs": [
    {
     "name": "stdout",
     "output_type": "stream",
     "text": [
      "              precision    recall  f1-score   support\n",
      "\n",
      "           0       0.99      1.00      0.99      5137\n",
      "           1       0.97      0.67      0.79       227\n",
      "\n",
      "    accuracy                           0.99      5364\n",
      "   macro avg       0.98      0.83      0.89      5364\n",
      "weighted avg       0.98      0.99      0.98      5364\n",
      "\n"
     ]
    }
   ],
   "source": [
    "print(classification_report(y_test,y_prediction))"
   ]
  },
  {
   "cell_type": "code",
   "execution_count": null,
   "id": "c95ffca7",
   "metadata": {},
   "outputs": [
    {
     "data": {
      "text/plain": [
       "['tfidf_job_pickle.pkl']"
      ]
     },
     "execution_count": 167,
     "metadata": {},
     "output_type": "execute_result"
    }
   ],
   "source": [
    "joblib.dump(tf,'tfidf_job_pickle.pkl')"
   ]
  }
 ],
 "metadata": {
  "kernelspec": {
   "display_name": "Python 3",
   "language": "python",
   "name": "python3"
  },
  "language_info": {
   "codemirror_mode": {
    "name": "ipython",
    "version": 3
   },
   "file_extension": ".py",
   "mimetype": "text/x-python",
   "name": "python",
   "nbconvert_exporter": "python",
   "pygments_lexer": "ipython3",
   "version": "3.11.9"
  }
 },
 "nbformat": 4,
 "nbformat_minor": 5
}
